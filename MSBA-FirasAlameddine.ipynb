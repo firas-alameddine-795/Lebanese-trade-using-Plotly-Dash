{
 "cells": [
  {
   "cell_type": "markdown",
   "metadata": {},
   "source": [
    "# 1- Lebanese Customs 2011-2019\n",
    "Date of submission: September 1, 2020.\n",
    "Version control not applied.\n",
    "\n",
    "Despite the fact that the free fall of the Lebanese currency exchange rate, has had severe negative impact on the economy, illustrated by the sharp increase in prices, this free fall could create an opportunity for the Lebanese industry to evolve and gain new momentum. In fact, the sharp increase of prices of imported products makes it almost impossible for ordinary consumers to buy as they used to do prior to the crisis, hence the need for cheaper local alternative goods (many of which are virtually inexistent). Also, the decrease of production costs (in US$) of Lebanese goods provides an opportunity for manufacturers to increase their level of exports to foreign markets, an act which would help eliminate gradually trade deficit as new markets start importing cheaper Lebanese goods compared to similar goods’ prices in these markets."
   ]
  },
  {
   "cell_type": "code",
   "execution_count": 1,
   "metadata": {},
   "outputs": [],
   "source": [
    "#Hit the 'Run All' Button to start.\n",
    "#Execution time is at the end of the notebook (Press end button on keyboard for a sneak peek)\n",
    "\n",
    "# from timeit import default_timer\n",
    "# start = default_timer()"
   ]
  },
  {
   "cell_type": "code",
   "execution_count": 2,
   "metadata": {},
   "outputs": [],
   "source": [
    "import pandas as pd\n",
    "import numpy as np\n",
    "import glob\n",
    "import re\n",
    "import os"
   ]
  },
  {
   "cell_type": "markdown",
   "metadata": {},
   "source": [
    "## Read csv files of Lebanese Customs data"
   ]
  },
  {
   "cell_type": "code",
   "execution_count": 3,
   "metadata": {},
   "outputs": [],
   "source": [
    "#I got Lebanese trade data year by year. I have to concatenate them in a single dataframe\n",
    "filenames = glob.glob('data - lebanese customs/lebanese customs yearly HS6 *.xlsx')\n",
    "dfs = [pd.read_excel(f, dtype='object') for f in filenames]\n",
    "df_copy = pd.concat(dfs, ignore_index=True)\n",
    "del dfs"
   ]
  },
  {
   "cell_type": "code",
   "execution_count": 4,
   "metadata": {},
   "outputs": [
    {
     "name": "stdout",
     "output_type": "stream",
     "text": [
      "First few rows\n",
      "--------------\n",
      "   year      country  hs_code import_lbp import_usd import_kg   export_lbp  \\\n",
      "0  2011  Afghanistan  0810.20  2,940,783      1,950        33            0   \n",
      "1  2011  Afghanistan  1602.31          0          0         0   13,860,222   \n",
      "2  2011  Afghanistan  1602.32          0          0         0  118,593,079   \n",
      "3  2011  Afghanistan  1602.50          0          0         0  126,046,700   \n",
      "4  2011  Afghanistan  2202.90          0          0         0   36,008,000   \n",
      "\n",
      "  export_usd export_kg  \n",
      "0          0         0  \n",
      "1      9,191     3,325  \n",
      "2     78,643    26,337  \n",
      "3     83,585    25,847  \n",
      "4     23,878    21,538  \n",
      "\n",
      "Information about columns\n",
      "-------------------------\n",
      "<class 'pandas.core.frame.DataFrame'>\n",
      "RangeIndex: 706986 entries, 0 to 706985\n",
      "Data columns (total 9 columns):\n",
      " #   Column      Non-Null Count   Dtype \n",
      "---  ------      --------------   ----- \n",
      " 0   year        706986 non-null  object\n",
      " 1   country     706986 non-null  object\n",
      " 2   hs_code     706986 non-null  object\n",
      " 3   import_lbp  706986 non-null  object\n",
      " 4   import_usd  706986 non-null  object\n",
      " 5   import_kg   706986 non-null  object\n",
      " 6   export_lbp  706986 non-null  object\n",
      " 7   export_usd  706986 non-null  object\n",
      " 8   export_kg   706986 non-null  object\n",
      "dtypes: object(9)\n",
      "memory usage: 48.5+ MB\n",
      "None\n"
     ]
    }
   ],
   "source": [
    "df = df_copy\n",
    "print(\"First few rows\")\n",
    "print(\"--------------\")\n",
    "print(df.head())\n",
    "print()\n",
    "print(\"Information about columns\")\n",
    "print(\"-------------------------\")\n",
    "print(df.info())"
   ]
  },
  {
   "cell_type": "code",
   "execution_count": 5,
   "metadata": {},
   "outputs": [],
   "source": [
    "#Rename columns\n",
    "df = df.rename(columns = {'hs_code':'hs6_code'})"
   ]
  },
  {
   "cell_type": "markdown",
   "metadata": {},
   "source": [
    "## Data Cleaning"
   ]
  },
  {
   "cell_type": "markdown",
   "metadata": {},
   "source": [
    "### Melting the DataFrame & adding a new column 'Trade Flow'\n",
    "This move makes it easier for me to filter the data by trade flow when i'm building the dashboard"
   ]
  },
  {
   "cell_type": "code",
   "execution_count": 6,
   "metadata": {},
   "outputs": [],
   "source": [
    "lebimport = df[['year','country','hs6_code','import_lbp','import_usd','import_kg']]\n",
    "lebimport.insert(loc = 2, column = 'trade_flow', value = 'import')\n",
    "lebimport = lebimport.rename(columns = {'import_lbp':'trade_value_lbp',\n",
    "                                        'import_usd':'trade_value_usd',\n",
    "                                        'import_kg':'trade_value_kg'})\n",
    "\n",
    "lebexport = df[['year','country','hs6_code','export_lbp','export_usd','export_kg']]\n",
    "lebexport.insert(loc = 2, column = 'trade_flow', value = 'export')\n",
    "lebexport = lebexport.rename(columns = {'export_lbp':'trade_value_lbp',\n",
    "                                        'export_usd':'trade_value_usd',\n",
    "                                        'export_kg':'trade_value_kg'})\n",
    "\n",
    "df = pd.concat([lebimport, lebexport])\n",
    "del lebimport\n",
    "del lebexport"
   ]
  },
  {
   "cell_type": "markdown",
   "metadata": {},
   "source": [
    "### Cleaning Numbers\n",
    "I read the data with an argument <code>dtype = 'object'</code> and some columns are supposed to contain numerical values. Therefore, they need to be cleaned of commas and dots."
   ]
  },
  {
   "cell_type": "code",
   "execution_count": 7,
   "metadata": {},
   "outputs": [
    {
     "name": "stdout",
     "output_type": "stream",
     "text": [
      "CPU times: total: 5.11 s\n",
      "Wall time: 5.2 s\n"
     ]
    }
   ],
   "source": [
    "%%time\n",
    "df['hs6_code'] = df['hs6_code'].str.replace('\\.', '', regex=True).astype(np.int64)\n",
    "df['trade_value_lbp'] = df['trade_value_lbp'].str.replace('\\,', '', regex=True).astype(np.int64)\n",
    "df['trade_value_usd'] = df['trade_value_usd'].str.replace('\\,', '', regex=True).astype(np.int64)\n",
    "df['trade_value_kg'] = df['trade_value_kg'].str.replace('\\,', '', regex=True).astype(np.int64)"
   ]
  },
  {
   "cell_type": "code",
   "execution_count": 8,
   "metadata": {},
   "outputs": [
    {
     "name": "stdout",
     "output_type": "stream",
     "text": [
      "<class 'pandas.core.frame.DataFrame'>\n",
      "Int64Index: 1413972 entries, 0 to 706985\n",
      "Data columns (total 7 columns):\n",
      " #   Column           Non-Null Count    Dtype \n",
      "---  ------           --------------    ----- \n",
      " 0   year             1413972 non-null  object\n",
      " 1   country          1413972 non-null  object\n",
      " 2   trade_flow       1413972 non-null  object\n",
      " 3   hs6_code         1413972 non-null  int64 \n",
      " 4   trade_value_lbp  1413972 non-null  int64 \n",
      " 5   trade_value_usd  1413972 non-null  int64 \n",
      " 6   trade_value_kg   1413972 non-null  int64 \n",
      "dtypes: int64(4), object(3)\n",
      "memory usage: 86.3+ MB\n",
      "None\n"
     ]
    }
   ],
   "source": [
    "print(df.info())"
   ]
  },
  {
   "cell_type": "markdown",
   "metadata": {},
   "source": [
    "### Convert HS6 from \"As Reported\" to \"HS92\"\n",
    "The timeframe for this spreadsheet is between 2011 and 2019. During this period, the WCO met twice to amend the Harmonized System by adding, replacing and merging some codes. Therefore we observe three *slightly* different classification methods: H3 (applied between 2007 and 2012), H4 (applied between 2012 and 2017), and H5 (applied between 2017-Present). \n",
    "\n",
    "To add some kind of consistency to the nomenclature of commodities, I replaced these three amendments with the original classification H0 (used in 1992). For this, I downloaded three classification conversion csv files (one for each amendment) and used them to map new codes out of the ones I have now. These files are publicly free and available on WCO's official website."
   ]
  },
  {
   "cell_type": "code",
   "execution_count": 9,
   "metadata": {},
   "outputs": [],
   "source": [
    "convert_07_92 = pd.read_excel('data - lebanese customs/HS 2007 to HS 1992 Correlation and conversion tables.xls')\n",
    "convert_12_92 = pd.read_excel('data - lebanese customs/HS 2012 to HS 1992 Correlation and conversion tables.xls')\n",
    "convert_17_92 = pd.read_excel('data - lebanese customs/HS 2017 to HS 1992 Correlation and conversion tables.xlsx')"
   ]
  },
  {
   "cell_type": "code",
   "execution_count": 10,
   "metadata": {},
   "outputs": [
    {
     "name": "stdout",
     "output_type": "stream",
     "text": [
      "    From     To\n",
      "0  10110  10111\n",
      "1  10190  10119\n",
      "2  10210  10210\n",
      "3  10290  10290\n",
      "4  10310  10310\n",
      "\n",
      "   HS 2012  HS 1992\n",
      "0    10121    10111\n",
      "1    10129    10119\n",
      "2    10130    10120\n",
      "3    10190    10120\n",
      "4    10221    10210\n",
      "\n",
      "   From HS 2017  To HS 1992\n",
      "0         10121       10111\n",
      "1         10129       10119\n",
      "2         10130       10111\n",
      "3         10190       10119\n",
      "4         10221       10210\n"
     ]
    }
   ],
   "source": [
    "print(convert_07_92.head())\n",
    "print()\n",
    "print(convert_12_92.head())\n",
    "print()\n",
    "print(convert_17_92.head())"
   ]
  },
  {
   "cell_type": "markdown",
   "metadata": {},
   "source": [
    "<u>Definition of these columns</u>:\n",
    "\n",
    "I'll use the first dataframe as an example. The first column contains codes to be applied starting 2007, and the second column contains the original version of the first column and was used in 1992. Naming them \"From\" and \"To\" respectively, I mean codes in the Lebanese Customs dataframe are in the first column and shall be converted to codes in the second column. The same logic is applied to the other csv files."
   ]
  },
  {
   "cell_type": "code",
   "execution_count": 11,
   "metadata": {
    "scrolled": true
   },
   "outputs": [
    {
     "name": "stdout",
     "output_type": "stream",
     "text": [
      "    From     To\n",
      "0  10110  10111\n",
      "1  10190  10119\n",
      "2  10210  10210\n",
      "3  10290  10290\n",
      "4  10310  10310\n",
      "\n",
      "    From     To\n",
      "0  10121  10111\n",
      "1  10129  10119\n",
      "2  10130  10120\n",
      "3  10190  10120\n",
      "4  10221  10210\n",
      "\n",
      "    From     To\n",
      "0  10121  10111\n",
      "1  10129  10119\n",
      "2  10130  10111\n",
      "3  10190  10119\n",
      "4  10221  10210\n"
     ]
    }
   ],
   "source": [
    "convert_12_92.columns = ['From','To']\n",
    "convert_17_92.columns = ['From','To']\n",
    "\n",
    "print(convert_07_92.head())\n",
    "print()\n",
    "print(convert_12_92.head())\n",
    "print()\n",
    "print(convert_17_92.head())"
   ]
  },
  {
   "cell_type": "code",
   "execution_count": 12,
   "metadata": {},
   "outputs": [],
   "source": [
    "#Create a mapping dictionary out of each file. (i.e. convert dataframes to dictionaries)\n",
    "\n",
    "conv1 = {}\n",
    "for pair in convert_07_92.to_dict('records'):\n",
    "    conv1[pair['From']] = pair['To']\n",
    "    \n",
    "conv2 = {}\n",
    "for pair in convert_12_92.to_dict('records'):\n",
    "    conv2[pair['From']] = pair['To']\n",
    "\n",
    "conv3 = {}\n",
    "for pair in convert_17_92.to_dict('records'):\n",
    "    conv3[pair['From']] = pair['To']"
   ]
  },
  {
   "cell_type": "code",
   "execution_count": 13,
   "metadata": {},
   "outputs": [],
   "source": [
    "def convert_code(df):\n",
    "    \"\"\"\n",
    "    This fuction uses two columns of the Lebanese Customs dataframe as inputs: Year, and HS6 Code. \n",
    "    Then it checks the year and in which period it should be. We already know there are three possible periods to look \n",
    "    for: between 2007 and 2012, between 2012 and 2017, and after 2017. After knowing this information, the fuction \n",
    "    converts the code using one of the dictionaries created earlier, depending on the corresponding period. The output\n",
    "    is the new code.\n",
    "    Please noted that some codes may not exist in the csv files we just read (i am speaking of codes in chapter 98 which\n",
    "    is used for national purposes and thus does not have an international definition).\n",
    "    \"\"\"\n",
    "    # Create masks for each year range\n",
    "    mask_2011 = df['year'] == 2011\n",
    "    mask_2012_2016 = df['year'].between(2012, 2016)\n",
    "    mask_2017_2019 = df['year'].between(2017, 2019)\n",
    "\n",
    "    # Use vectorized operations to update values based on masks\n",
    "    df['new_hs6_code'] = df['hs6_code']  # Set initial values as the original codes\n",
    "    df.loc[mask_2011, 'new_hs6_code'] = df.loc[mask_2011, 'hs6_code'].map(conv1.get)\n",
    "    df.loc[mask_2012_2016, 'new_hs6_code'] = df.loc[mask_2012_2016, 'hs6_code'].map(conv2.get)\n",
    "    df.loc[mask_2017_2019, 'new_hs6_code'] = df.loc[mask_2017_2019, 'hs6_code'].map(conv3.get)\n",
    "\n",
    "    # Fill missing values with original codes (might be optimizable, see note below)\n",
    "    df['new_hs6_code'].fillna(df['hs6_code'], inplace=True)\n",
    "    df['new_hs6_code'] = df['new_hs6_code'].astype(pd.Int64Dtype())\n",
    "\n",
    "    return df"
   ]
  },
  {
   "cell_type": "code",
   "execution_count": 14,
   "metadata": {},
   "outputs": [
    {
     "name": "stdout",
     "output_type": "stream",
     "text": [
      "CPU times: total: 1.48 s\n",
      "Wall time: 1.5 s\n"
     ]
    }
   ],
   "source": [
    "%%time\n",
    "#Apply the covert_code() function.\n",
    "df = convert_code(df)\n",
    "\n",
    "#Delete the old HS6 Codes column, and rename the new one.\n",
    "df = df.drop('hs6_code', axis = 1)\\\n",
    "       .rename(columns = {'new_hs6_code':'hs6_code'})\\\n",
    "       .sort_values(by = ['trade_flow', 'year', 'country', 'hs6_code'])\n",
    "\n",
    "#Arranging columns in a suitable manner\n",
    "df = df[['year','country','trade_flow','hs6_code','trade_value_usd','trade_value_lbp','trade_value_kg']]"
   ]
  },
  {
   "cell_type": "markdown",
   "metadata": {},
   "source": [
    "## Get HS1, HS2 and HS4 Codes out of HS6 Codes\n",
    "HS Codes consist of six digits: the first two digits represent the chapters (HS2 Codes), the second two digits represent the headings in each chapter, and HS4 Codes are the first four digits. \n",
    "\n",
    "Sections, or HS1 Codes, are only a distribution of HS2 Codes, and will be manually mapped. \n",
    "\n",
    "As a reminder, there are 21 sections that contain 99 chapters. These chapters are subdivided to 1244 heading, which are also subdivided to 5244 subheadings."
   ]
  },
  {
   "cell_type": "code",
   "execution_count": 15,
   "metadata": {},
   "outputs": [],
   "source": [
    "#Extract HS2 and HS4 Codes out of HS6 Codes.\n",
    "df.insert(loc = 3, \n",
    "          column = 'hs4_code',\n",
    "          value = df['hs6_code'].apply(lambda x: np.floor(x/100).astype(np.int64)))\n",
    "\n",
    "df.insert(loc = 3, \n",
    "          column = 'hs2_code', \n",
    "          value = df['hs6_code'].apply(lambda x: np.floor(x/10000).astype(np.int64)))"
   ]
  },
  {
   "cell_type": "markdown",
   "metadata": {},
   "source": [
    "As per WCO, each section contains a list of chapters. For example, section I contains chapter 1 to 5, section II contains chapters 6 to 14, and so on. Here, I make a dictionary in which I pair each section with its list of chapters. This way I can easily map HS1 Codes (sections) using HS2 Codes (chapters) using this dictionary as a reference."
   ]
  },
  {
   "cell_type": "code",
   "execution_count": 16,
   "metadata": {},
   "outputs": [],
   "source": [
    "# Mapping HS1 Codes out of HS2 Codes.\n",
    "\n",
    "section_list = ['I','II','III','IV','V','VI','VII','VIII','IX','X','XI',\n",
    "                'XII','XIII','XIV','XV','XVI','XVII','XVIII','XIX','XX',\n",
    "                'XXI']\n",
    "\n",
    "chapters_list = [[1,2,3,4,5],[6,7,8,9,10,11,12,13,14],[15],\n",
    "       [16,17,18,19,20,21,22,23,24],[25,26,27],\n",
    "       [28,29,30,31,32,33,34,35,36,37,38],[39,40],\n",
    "       [41,42,43],[44,45,46],[47,48,49],\n",
    "       [50,51,52,53,54,55,56,57,58,59,60,61,62,63], \n",
    "       [64,65,66,67],[68,69,70],[71],\n",
    "       [72,73,74,75,76,77,78,79,80,81,82,83],[84,85],\n",
    "       [86,87,88,89],[90,91,92],[93],[94,95,96],\n",
    "       [97,98]]\n",
    "\n",
    "hs2_hs1 = {}\n",
    "for section, codelist in zip(section_list, chapters_list):\n",
    "    for code in codelist:\n",
    "        hs2_hs1[code] = section\n",
    "        \n",
    "df.insert(loc = 3, column = 'hs1_code', value = df['hs2_code'].map(hs2_hs1))"
   ]
  },
  {
   "cell_type": "markdown",
   "metadata": {},
   "source": [
    "## Add HS Descriptrion\n",
    "HS is short for Harmonized System. The full name is \"Harmonized Commodity Description and Coding System\". As the name implies, each commodity is given a unique code, depending on its unique description. Therefore I can easily map commodity descriptions out of codes. For this, I use an excel file that already does this task. This file is publicly free and available on OEC website (short for Observatory of Economic Complexity).\n",
    "\n",
    "First i read the excel files and convert them into proper dictionaries. Then for each hierarchy level of commodity codes, I map relative descriptions using the dictionaries as reference, and fill any remaining missing value with valid information manually."
   ]
  },
  {
   "cell_type": "code",
   "execution_count": 17,
   "metadata": {},
   "outputs": [
    {
     "name": "stdout",
     "output_type": "stream",
     "text": [
      "    hs92                                    name\n",
      "0      1                            Live Animals\n",
      "1    101                                  Horses\n",
      "2  10111         Horses, live pure-bred breeding\n",
      "3  10119  Horses, live except pure-bred breeding\n",
      "4  10120          Asses, mules and hinnies, live\n",
      "\n",
      "  section                               name\n",
      "0       I      Live animals; animal products\n",
      "1      II                 Vegetable products\n",
      "2     III  Animal or vegetable fats and oils\n",
      "3      IV                Prepared foodstuffs\n",
      "4       V                   Mineral products\n"
     ]
    }
   ],
   "source": [
    "hs92 = pd.read_excel('data - lebanese customs/products_hs_92.xlsx', sheet_name = 'products_hs_92')\n",
    "sections = pd.read_excel('data - lebanese customs/products_hs_92.xlsx', sheet_name = 'sections')\n",
    "\n",
    "print(hs92.head())\n",
    "print()\n",
    "print(sections.head())"
   ]
  },
  {
   "cell_type": "code",
   "execution_count": 18,
   "metadata": {},
   "outputs": [],
   "source": [
    "#Create a mapping dictionary. In other words, convert the pandas dataframes into dictionaries.\n",
    "\n",
    "get_names_hs92 = {}\n",
    "for pair in hs92.to_dict('records'):\n",
    "    get_names_hs92[pair['hs92']] = pair['name']\n",
    "    \n",
    "get_names_sections = {}\n",
    "for pair in sections.to_dict('records'):\n",
    "    get_names_sections[pair['section']] = pair['name']"
   ]
  },
  {
   "cell_type": "markdown",
   "metadata": {},
   "source": [
    "### HS6\n",
    "Mapping the descriptions of HS6 Codes."
   ]
  },
  {
   "cell_type": "code",
   "execution_count": 19,
   "metadata": {},
   "outputs": [],
   "source": [
    "df.insert(loc = 7, column = 'hs6_desc', value = df['hs6_code'].map(get_names_hs92)) "
   ]
  },
  {
   "cell_type": "code",
   "execution_count": 20,
   "metadata": {},
   "outputs": [
    {
     "data": {
      "text/plain": [
       "year                  0\n",
       "country               0\n",
       "trade_flow            0\n",
       "hs1_code              0\n",
       "hs2_code              0\n",
       "hs4_code              0\n",
       "hs6_code              0\n",
       "hs6_desc           3042\n",
       "trade_value_usd       0\n",
       "trade_value_lbp       0\n",
       "trade_value_kg        0\n",
       "dtype: int64"
      ]
     },
     "execution_count": 20,
     "metadata": {},
     "output_type": "execute_result"
    }
   ],
   "source": [
    "#Check for missing values\n",
    "pd.isnull(df).sum()"
   ]
  },
  {
   "cell_type": "markdown",
   "metadata": {},
   "source": [
    "As mentioned earlier, some codes may not have international definitions. We fill this gap by mannually looking for proper descriptions in the Lebanese customs website."
   ]
  },
  {
   "cell_type": "code",
   "execution_count": 21,
   "metadata": {},
   "outputs": [
    {
     "data": {
      "text/plain": [
       "<IntegerArray>\n",
       "[980100, 980300, 980400, 980200, 710820, 980500]\n",
       "Length: 6, dtype: Int64"
      ]
     },
     "execution_count": 21,
     "metadata": {},
     "output_type": "execute_result"
    }
   ],
   "source": [
    "df[df['hs6_desc'].isnull()]['hs6_code'].unique()"
   ]
  },
  {
   "cell_type": "code",
   "execution_count": 22,
   "metadata": {},
   "outputs": [],
   "source": [
    "missing = {710820:'Monetary Gold',\n",
    "           980100:'Used furniture and household appliances and person',\n",
    "           980200:'Trousseaux of newly-weds and students',\n",
    "           980300:'Samples of no commercial value',\n",
    "           980400:'Occasional giftsand personal dispatches',\n",
    "           980500:'Caskets and coffins containing the body of a deceased'}\n",
    "\n",
    "df['hs6_desc'] = df['hs6_desc'].fillna(df['hs6_code'].map(missing))\n"
   ]
  },
  {
   "cell_type": "markdown",
   "metadata": {},
   "source": [
    "### HS4\n",
    "Mapping the descriptions of HS4 Codes."
   ]
  },
  {
   "cell_type": "code",
   "execution_count": 23,
   "metadata": {},
   "outputs": [],
   "source": [
    "df.insert(loc = 6, column = 'hs4_desc', value = df['hs4_code'].map(get_names_hs92))"
   ]
  },
  {
   "cell_type": "code",
   "execution_count": 24,
   "metadata": {},
   "outputs": [
    {
     "data": {
      "text/plain": [
       "year                  0\n",
       "country               0\n",
       "trade_flow            0\n",
       "hs1_code              0\n",
       "hs2_code              0\n",
       "hs4_code              0\n",
       "hs4_desc           3032\n",
       "hs6_code              0\n",
       "hs6_desc              0\n",
       "trade_value_usd       0\n",
       "trade_value_lbp       0\n",
       "trade_value_kg        0\n",
       "dtype: int64"
      ]
     },
     "execution_count": 24,
     "metadata": {},
     "output_type": "execute_result"
    }
   ],
   "source": [
    "#Check for missing values\n",
    "pd.isnull(df).sum()"
   ]
  },
  {
   "cell_type": "code",
   "execution_count": 25,
   "metadata": {
    "scrolled": true
   },
   "outputs": [
    {
     "data": {
      "text/plain": [
       "array([9801, 9803, 9804, 9802, 9805], dtype=int64)"
      ]
     },
     "execution_count": 25,
     "metadata": {},
     "output_type": "execute_result"
    }
   ],
   "source": [
    "df[df['hs4_desc'].isnull()]['hs4_code'].unique()"
   ]
  },
  {
   "cell_type": "code",
   "execution_count": 26,
   "metadata": {},
   "outputs": [],
   "source": [
    "missing = {9801:'Used furniture and household appliances and person',\n",
    "           9802:'Trousseaux of newly-weds and students',\n",
    "           9803:'Samples of no commercial value',\n",
    "           9804:'Occasional giftsand personal dispatches',\n",
    "           9805:'Caskets and coffins containing the body of a deceased'}\n",
    "\n",
    "df['hs4_desc'] = df['hs4_desc'].fillna(df['hs4_code'].map(missing))"
   ]
  },
  {
   "cell_type": "markdown",
   "metadata": {},
   "source": [
    "### HS2\n",
    "Mapping the descriptions of HS2 Codes."
   ]
  },
  {
   "cell_type": "code",
   "execution_count": 27,
   "metadata": {},
   "outputs": [],
   "source": [
    "df.insert(loc = 5, column = 'hs2_desc', value = df['hs2_code'].map(get_names_hs92))"
   ]
  },
  {
   "cell_type": "code",
   "execution_count": 28,
   "metadata": {},
   "outputs": [
    {
     "data": {
      "text/plain": [
       "year                  0\n",
       "country               0\n",
       "trade_flow            0\n",
       "hs1_code              0\n",
       "hs2_code              0\n",
       "hs2_desc           3032\n",
       "hs4_code              0\n",
       "hs4_desc              0\n",
       "hs6_code              0\n",
       "hs6_desc              0\n",
       "trade_value_usd       0\n",
       "trade_value_lbp       0\n",
       "trade_value_kg        0\n",
       "dtype: int64"
      ]
     },
     "execution_count": 28,
     "metadata": {},
     "output_type": "execute_result"
    }
   ],
   "source": [
    "#Check for missing values\n",
    "pd.isnull(df).sum()"
   ]
  },
  {
   "cell_type": "code",
   "execution_count": 29,
   "metadata": {},
   "outputs": [
    {
     "data": {
      "text/plain": [
       "array([98], dtype=int64)"
      ]
     },
     "execution_count": 29,
     "metadata": {},
     "output_type": "execute_result"
    }
   ],
   "source": [
    "df[df['hs2_desc'].isnull()]['hs2_code'].unique()"
   ]
  },
  {
   "cell_type": "code",
   "execution_count": 30,
   "metadata": {},
   "outputs": [],
   "source": [
    "df['hs2_desc'] = df['hs2_desc'].fillna('Used furniture and household appliances and person')"
   ]
  },
  {
   "cell_type": "markdown",
   "metadata": {},
   "source": [
    "### HS1\n",
    "Mapping the descriptions of HS1 Codes."
   ]
  },
  {
   "cell_type": "code",
   "execution_count": 31,
   "metadata": {},
   "outputs": [],
   "source": [
    "df.insert(loc = 4, column = 'hs1_desc', value = df['hs1_code'].map(get_names_sections))"
   ]
  },
  {
   "cell_type": "code",
   "execution_count": 32,
   "metadata": {},
   "outputs": [
    {
     "data": {
      "text/plain": [
       "year               0\n",
       "country            0\n",
       "trade_flow         0\n",
       "hs1_code           0\n",
       "hs1_desc           0\n",
       "hs2_code           0\n",
       "hs2_desc           0\n",
       "hs4_code           0\n",
       "hs4_desc           0\n",
       "hs6_code           0\n",
       "hs6_desc           0\n",
       "trade_value_usd    0\n",
       "trade_value_lbp    0\n",
       "trade_value_kg     0\n",
       "dtype: int64"
      ]
     },
     "execution_count": 32,
     "metadata": {},
     "output_type": "execute_result"
    }
   ],
   "source": [
    "#Check for missing values\n",
    "pd.isnull(df).sum()"
   ]
  },
  {
   "cell_type": "markdown",
   "metadata": {},
   "source": [
    "## Add Regions\n",
    "Creating a column for regions adds some granularity to the countries with which products are traded. This is useful when it comes to creating a treemap for these countries, because it will allow us to cluster them into their proper regions, adding some beauty to the treemap and helping us analyze it more easily.  "
   ]
  },
  {
   "cell_type": "code",
   "execution_count": 33,
   "metadata": {},
   "outputs": [
    {
     "name": "stdout",
     "output_type": "stream",
     "text": [
      "          Country          Region\n",
      "0     Afghanistan  Asia & Pacific\n",
      "1   Aland Islands          Europe\n",
      "2         Albania          Europe\n",
      "3         Algeria     Arab States\n",
      "4  American Samoa  Asia & Pacific\n",
      "\n",
      "               Country          Region\n",
      "243  Wallis and Futuna  Asia & Pacific\n",
      "244     Western Sahara          Africa\n",
      "245              Yemen     Middle east\n",
      "246             Zambia          Africa\n",
      "247           Zimbabwe          Africa\n"
     ]
    }
   ],
   "source": [
    "regions = pd.read_excel('data - lebanese customs/country to region.xlsx')\n",
    "print(regions.head())\n",
    "print()\n",
    "print(regions.tail())"
   ]
  },
  {
   "cell_type": "code",
   "execution_count": 34,
   "metadata": {},
   "outputs": [],
   "source": [
    "# Create a map, with countries as key, and corresponding regions as values.\n",
    "dic = {}\n",
    "for record in regions.to_dict('records'):\n",
    "    dic[record['Country']] = record['Region']\n",
    "    if record['Country'] == 'Bahrain':\n",
    "        dic[record['Country']] = 'Middle east'\n",
    "    if record['Region'] == 'Arab States' and record['Country'] != 'Bahrain':\n",
    "        dic[record['Country']] = 'Africa'\n"
   ]
  },
  {
   "cell_type": "code",
   "execution_count": 35,
   "metadata": {},
   "outputs": [
    {
     "data": {
      "text/html": [
       "<div>\n",
       "<style scoped>\n",
       "    .dataframe tbody tr th:only-of-type {\n",
       "        vertical-align: middle;\n",
       "    }\n",
       "\n",
       "    .dataframe tbody tr th {\n",
       "        vertical-align: top;\n",
       "    }\n",
       "\n",
       "    .dataframe thead th {\n",
       "        text-align: right;\n",
       "    }\n",
       "</style>\n",
       "<table border=\"1\" class=\"dataframe\">\n",
       "  <thead>\n",
       "    <tr style=\"text-align: right;\">\n",
       "      <th></th>\n",
       "      <th>year</th>\n",
       "      <th>country</th>\n",
       "      <th>region</th>\n",
       "      <th>trade_flow</th>\n",
       "      <th>hs1_code</th>\n",
       "      <th>hs1_desc</th>\n",
       "      <th>hs2_code</th>\n",
       "      <th>hs2_desc</th>\n",
       "      <th>hs4_code</th>\n",
       "      <th>hs4_desc</th>\n",
       "      <th>hs6_code</th>\n",
       "      <th>hs6_desc</th>\n",
       "      <th>trade_value_usd</th>\n",
       "      <th>trade_value_lbp</th>\n",
       "      <th>trade_value_kg</th>\n",
       "    </tr>\n",
       "  </thead>\n",
       "  <tbody>\n",
       "    <tr>\n",
       "      <th>0</th>\n",
       "      <td>2011</td>\n",
       "      <td>Afghanistan</td>\n",
       "      <td>Asia &amp; Pacific</td>\n",
       "      <td>export</td>\n",
       "      <td>II</td>\n",
       "      <td>Vegetable products</td>\n",
       "      <td>8</td>\n",
       "      <td>Fruits and nuts</td>\n",
       "      <td>810</td>\n",
       "      <td>Other Fruits</td>\n",
       "      <td>81020</td>\n",
       "      <td>Raspberry, blackberry, mulberry and loganberry...</td>\n",
       "      <td>0</td>\n",
       "      <td>0</td>\n",
       "      <td>0</td>\n",
       "    </tr>\n",
       "    <tr>\n",
       "      <th>1</th>\n",
       "      <td>2011</td>\n",
       "      <td>Afghanistan</td>\n",
       "      <td>Asia &amp; Pacific</td>\n",
       "      <td>export</td>\n",
       "      <td>IV</td>\n",
       "      <td>Prepared foodstuffs</td>\n",
       "      <td>16</td>\n",
       "      <td>Preparations of meat or fish</td>\n",
       "      <td>1602</td>\n",
       "      <td>Other Prepared Meat</td>\n",
       "      <td>160231</td>\n",
       "      <td>Turkey meat, offal prepared or preserved, exce...</td>\n",
       "      <td>9191</td>\n",
       "      <td>13860222</td>\n",
       "      <td>3325</td>\n",
       "    </tr>\n",
       "    <tr>\n",
       "      <th>2</th>\n",
       "      <td>2011</td>\n",
       "      <td>Afghanistan</td>\n",
       "      <td>Asia &amp; Pacific</td>\n",
       "      <td>export</td>\n",
       "      <td>IV</td>\n",
       "      <td>Prepared foodstuffs</td>\n",
       "      <td>16</td>\n",
       "      <td>Preparations of meat or fish</td>\n",
       "      <td>1602</td>\n",
       "      <td>Other Prepared Meat</td>\n",
       "      <td>160239</td>\n",
       "      <td>Fowl, duck,goose, offal, prepared, preserved n...</td>\n",
       "      <td>78643</td>\n",
       "      <td>118593079</td>\n",
       "      <td>26337</td>\n",
       "    </tr>\n",
       "    <tr>\n",
       "      <th>3</th>\n",
       "      <td>2011</td>\n",
       "      <td>Afghanistan</td>\n",
       "      <td>Asia &amp; Pacific</td>\n",
       "      <td>export</td>\n",
       "      <td>IV</td>\n",
       "      <td>Prepared foodstuffs</td>\n",
       "      <td>16</td>\n",
       "      <td>Preparations of meat or fish</td>\n",
       "      <td>1602</td>\n",
       "      <td>Other Prepared Meat</td>\n",
       "      <td>160250</td>\n",
       "      <td>Bovine meat, offal nes, not livers, prepared/p...</td>\n",
       "      <td>83585</td>\n",
       "      <td>126046700</td>\n",
       "      <td>25847</td>\n",
       "    </tr>\n",
       "    <tr>\n",
       "      <th>4</th>\n",
       "      <td>2011</td>\n",
       "      <td>Afghanistan</td>\n",
       "      <td>Asia &amp; Pacific</td>\n",
       "      <td>export</td>\n",
       "      <td>IV</td>\n",
       "      <td>Prepared foodstuffs</td>\n",
       "      <td>22</td>\n",
       "      <td>Beverages</td>\n",
       "      <td>2202</td>\n",
       "      <td>Flavored Water</td>\n",
       "      <td>220290</td>\n",
       "      <td>Non-alcoholic beverages nes, except fruit, veg...</td>\n",
       "      <td>23878</td>\n",
       "      <td>36008000</td>\n",
       "      <td>21538</td>\n",
       "    </tr>\n",
       "  </tbody>\n",
       "</table>\n",
       "</div>"
      ],
      "text/plain": [
       "   year      country          region trade_flow hs1_code             hs1_desc  \\\n",
       "0  2011  Afghanistan  Asia & Pacific     export       II   Vegetable products   \n",
       "1  2011  Afghanistan  Asia & Pacific     export       IV  Prepared foodstuffs   \n",
       "2  2011  Afghanistan  Asia & Pacific     export       IV  Prepared foodstuffs   \n",
       "3  2011  Afghanistan  Asia & Pacific     export       IV  Prepared foodstuffs   \n",
       "4  2011  Afghanistan  Asia & Pacific     export       IV  Prepared foodstuffs   \n",
       "\n",
       "   hs2_code                       hs2_desc  hs4_code             hs4_desc  \\\n",
       "0         8                Fruits and nuts       810         Other Fruits   \n",
       "1        16  Preparations of meat or fish       1602  Other Prepared Meat   \n",
       "2        16  Preparations of meat or fish       1602  Other Prepared Meat   \n",
       "3        16  Preparations of meat or fish       1602  Other Prepared Meat   \n",
       "4        22                      Beverages      2202       Flavored Water   \n",
       "\n",
       "   hs6_code                                           hs6_desc  \\\n",
       "0     81020  Raspberry, blackberry, mulberry and loganberry...   \n",
       "1    160231  Turkey meat, offal prepared or preserved, exce...   \n",
       "2    160239  Fowl, duck,goose, offal, prepared, preserved n...   \n",
       "3    160250  Bovine meat, offal nes, not livers, prepared/p...   \n",
       "4    220290  Non-alcoholic beverages nes, except fruit, veg...   \n",
       "\n",
       "   trade_value_usd  trade_value_lbp  trade_value_kg  \n",
       "0                0                0               0  \n",
       "1             9191         13860222            3325  \n",
       "2            78643        118593079           26337  \n",
       "3            83585        126046700           25847  \n",
       "4            23878         36008000           21538  "
      ]
     },
     "execution_count": 35,
     "metadata": {},
     "output_type": "execute_result"
    }
   ],
   "source": [
    "#Insert a new column 'Region'\n",
    "df.insert(loc = 2, column = 'region', value = df['country'].map(dic))\n",
    "df.head()"
   ]
  },
  {
   "cell_type": "code",
   "execution_count": 36,
   "metadata": {},
   "outputs": [
    {
     "data": {
      "text/plain": [
       "year                   0\n",
       "country                0\n",
       "region             78906\n",
       "trade_flow             0\n",
       "hs1_code               0\n",
       "hs1_desc               0\n",
       "hs2_code               0\n",
       "hs2_desc               0\n",
       "hs4_code               0\n",
       "hs4_desc               0\n",
       "hs6_code               0\n",
       "hs6_desc               0\n",
       "trade_value_usd        0\n",
       "trade_value_lbp        0\n",
       "trade_value_kg         0\n",
       "dtype: int64"
      ]
     },
     "execution_count": 36,
     "metadata": {},
     "output_type": "execute_result"
    }
   ],
   "source": [
    "#Check for missing values\n",
    "pd.isnull(df).sum()"
   ]
  },
  {
   "cell_type": "code",
   "execution_count": 37,
   "metadata": {},
   "outputs": [
    {
     "data": {
      "text/plain": [
       "['Airline Supplies',\n",
       " 'Ceuta',\n",
       " 'Christmas island',\n",
       " 'Cocos Islands',\n",
       " 'Duty Free-Airport',\n",
       " 'East Timor',\n",
       " 'Falkland Islands',\n",
       " 'Free Zone',\n",
       " 'French South Territories',\n",
       " 'Guinea- Bissau',\n",
       " 'Heard  Mcdonald Islands',\n",
       " 'Holy See (Vatican city st',\n",
       " 'Indian Ocean Territories',\n",
       " 'Iran, Islamic republic of',\n",
       " 'Ivory Coast',\n",
       " 'Kazakstan',\n",
       " \"Korea,Democ. People's rep\",\n",
       " 'Kosovo',\n",
       " \"Lao People's Dem Republic\",\n",
       " 'Lebanon-returned Goods',\n",
       " 'Libyan Arab Jamahiriya',\n",
       " 'Micronesia,Federation',\n",
       " 'Misc',\n",
       " 'Neutral Zone',\n",
       " 'Northern Mariana islands',\n",
       " 'Palestine terri, Occupied',\n",
       " 'Pitcairn',\n",
       " 'Saint Pierre & Miquelon',\n",
       " 'Saint Vincent&grenadines',\n",
       " 'Saint kitts & nevis',\n",
       " 'Serbia & Montenegro',\n",
       " 'Ship Supplies',\n",
       " 'Soolmon Islands',\n",
       " 'Svalbard&Jan Mayen',\n",
       " 'Taiwan, Province of china',\n",
       " 'Tanzania, United Republic',\n",
       " 'Trinidad & Tobago',\n",
       " 'Turks&caicos Islands',\n",
       " 'Us Minor Outlying Islands',\n",
       " 'Viet Nam',\n",
       " 'Virgin Island, U.S',\n",
       " 'Wallis and  Futuna',\n",
       " 'Warehouse',\n",
       " 'Yugoslavia',\n",
       " 'Zaire']"
      ]
     },
     "execution_count": 37,
     "metadata": {},
     "output_type": "execute_result"
    }
   ],
   "source": [
    "#Places with no corresponding regions in the dictionary\n",
    "sorted(df[df['region'].isnull()]['country'].unique())"
   ]
  },
  {
   "cell_type": "code",
   "execution_count": 38,
   "metadata": {},
   "outputs": [],
   "source": [
    "values = {'Duty Free-Airport':'Misc', \n",
    "          'Falkland Islands':'South/Latin America', \n",
    "          'Free Zone':'Misc',\n",
    "          'French South Territories':'Misc',\n",
    "          'Guinea- Bissau':'Africa',\n",
    "          'Heard  Mcdonald Islands':'Misc', \n",
    "          'Holy See (Vatican city st':'Europe',\n",
    "          'Indian Ocean Territories':'Misc',\n",
    "          'Iran, Islamic republic of':'Middle east',\n",
    "          'Ivory Coast':'Africa',\n",
    "          'Kazakstan':'Asia & Pacific',\n",
    "          \"Korea,Democ. People's rep\":'Asia & Pacific',\n",
    "          'Kosovo':'Europe',\n",
    "          \"Lao People's Dem Republic\":'Asia & Pacific',\n",
    "          'Lebanon-returned Goods':'Misc',\n",
    "          'Libyan Arab Jamahiriya':'Africa', \n",
    "          'Misc':'Misc',\n",
    "          'Neutral Zone':'Misc',\n",
    "          'Northern Mariana islands':'Misc',\n",
    "          'Saint kitts & nevis':'South/Latin America',\n",
    "          'Serbia & Montenegro':'Europe',\n",
    "          'Ship Supplies':'Misc',\n",
    "          'Soolmon Islands':'Asia & Pacific',\n",
    "          'Svalbard&Jan Mayen':'Europe',\n",
    "          'Taiwan, Province of china':'Asia & Pacific',\n",
    "          'Tanzania, United Republic':'Africa',\n",
    "          'Trinidad & Tobago':'South/Latin America',\n",
    "          'Turks&caicos Islands':'South/Latin America',\n",
    "          'Viet Nam':'Asia & Pacific',\n",
    "          'Virgin Island, U.S':'South/Latin America',\n",
    "          'Warehouse':'Misc',\n",
    "          'Yugoslavia':'Europe',\n",
    "          'Zaire':'Africa',\n",
    "          'Christmas island':'Misc',\n",
    "          'Cocos Islands':'Misc',\n",
    "          'Micronesia,Federation':'Misc',\n",
    "          'Palestine terri, Occupied':'Middle east',\n",
    "          'Saint Vincent&grenadines':'South/Latin America',\n",
    "          'Wallis and  Futuna':'Asia & Pacific',\n",
    "          'Pitcairn':'Asia & Pacific',\n",
    "          'Saint Pierre & Miquelon':'North America',\n",
    "          'East Timor':'Asia & Pacific',\n",
    "          'Airline Supplies':'Misc',\n",
    "          'Ceuta':'Europe',\n",
    "          'Us Minor Outlying Islands':'Misc'}\n",
    "\n",
    "df['region'] = df['region'].fillna(df['country'].map(values))"
   ]
  },
  {
   "cell_type": "markdown",
   "metadata": {},
   "source": [
    "# Dash App"
   ]
  },
  {
   "cell_type": "code",
   "execution_count": 39,
   "metadata": {},
   "outputs": [
    {
     "name": "stderr",
     "output_type": "stream",
     "text": [
      "C:\\Users\\user\\AppData\\Local\\Temp\\ipykernel_2712\\1808612917.py:6: UserWarning: \n",
      "The dash_core_components package is deprecated. Please replace\n",
      "`import dash_core_components as dcc` with `from dash import dcc`\n",
      "  import dash_core_components as dcc\n",
      "C:\\Users\\user\\AppData\\Local\\Temp\\ipykernel_2712\\1808612917.py:7: UserWarning: \n",
      "The dash_html_components package is deprecated. Please replace\n",
      "`import dash_html_components as html` with `from dash import html`\n",
      "  import dash_html_components as html\n"
     ]
    }
   ],
   "source": [
    "import plotly.express as px\n",
    "import plotly.graph_objects as go\n",
    "import seaborn as sns\n",
    "import dash\n",
    "import dash_daq as daq\n",
    "import dash_core_components as dcc\n",
    "import dash_html_components as html\n",
    "import dash_bootstrap_components as dbc\n",
    "from dash.dependencies import Input, Output, State\n",
    "from jupyter_dash import JupyterDash"
   ]
  },
  {
   "cell_type": "code",
   "execution_count": 40,
   "metadata": {},
   "outputs": [],
   "source": [
    "# conda install -c conda-forge \"dash-bootstrap-components<1\""
   ]
  },
  {
   "cell_type": "markdown",
   "metadata": {},
   "source": [
    "## Functions to create and update figures"
   ]
  },
  {
   "cell_type": "markdown",
   "metadata": {},
   "source": [
    "### Function 1: Create a time series (Trade Value over time)"
   ]
  },
  {
   "cell_type": "code",
   "execution_count": 41,
   "metadata": {
    "scrolled": true
   },
   "outputs": [],
   "source": [
    "def create_time_series(flow, dff = df):\n",
    "    #Filter dataframe according to trade flow\n",
    "    dff = dff[dff['trade_flow'] == flow]\n",
    "    \n",
    "    #Style labels on time series:\n",
    "    def get_text(value):\n",
    "        '''\n",
    "        Assign proper labels to points. If a trade value in a certain year is less than one billion,\n",
    "        it will be written as follow: $123,45M. Otherwise, it will be written as follows: $123,45B, \n",
    "        and so on.\n",
    "        '''\n",
    "        if value < 10**6:\n",
    "            text = '${}K'.format(np.round(value/(10**3), 2))\n",
    "        elif value >=10**6 and value < 10**9:\n",
    "            text = '${}M'.format(np.round(value/(10**6), 2))\n",
    "        else:\n",
    "            text = '${}B'.format(np.round(value/(10**9), 2))\n",
    "        return text\n",
    "    \n",
    "    #Prepare dataframe\n",
    "    dff = dff.groupby(['year'])['trade_value_usd'].sum().reset_index()\n",
    "    \n",
    "    #Create time series\n",
    "    fig = go.Figure(\n",
    "        data = go.Scatter(x = dff['year'],\n",
    "                          y = dff['trade_value_usd'],\n",
    "                          mode = 'lines+markers+text',\n",
    "#                           text = dff['Value'],\n",
    "                          text = [get_text(value) for value in dff['trade_value_usd']],\n",
    "                          textposition = 'top center',\n",
    "                          line = dict(color = 'crimson', width = 3),\n",
    "                          hoverinfo = 'skip'),\n",
    "        layout = go.Layout(template = 'simple_white',\n",
    "                           font_family = 'Microsoft Yahei UI',\n",
    "                           font_size = 13,\n",
    "                           title = flow,\n",
    "                           title_font_family = 'Microsoft Yahei UI',\n",
    "                           title_font_size = 15,\n",
    "                           title_font_color = 'black')\n",
    "    )\n",
    "    \n",
    "    #Update axes and transition_duration\n",
    "    fig.update_xaxes(tickfont = dict(family = 'Microsoft Yahei UI', size = 15))\n",
    "    fig.update_yaxes(tickfont = dict(family = 'Microsoft Yahei UI', size = 15),\n",
    "                     nticks = 6)\n",
    "    \n",
    "    return fig\n",
    "\n",
    "#Example\n",
    "#create_time_series('Export', dataframe[dataframe['HS2 Code'] == 15])"
   ]
  },
  {
   "cell_type": "markdown",
   "metadata": {},
   "source": [
    "### Function 2: Create a treemap for products"
   ]
  },
  {
   "cell_type": "code",
   "execution_count": 42,
   "metadata": {},
   "outputs": [],
   "source": [
    "def create_products_treemap(flow, year, depth, dff = df):\n",
    "    #Filter dataframe according to trade flow\n",
    "    dff = dff[dff['trade_flow'] == flow]\n",
    "    \n",
    "    #Filter by year\n",
    "    if year != 'All years': #A dropdown menu for years will have values 2011, 2012, ..., 2019, and 'All years'.\n",
    "        dff = dff[dff['year'] == int(year)]\n",
    "    else:\n",
    "        dff = dff\n",
    "        \n",
    "    #Prepare dataframe\n",
    "    hierarchy_levels = ['hs1_desc','hs2_desc','hs4_desc','hs6_desc']\n",
    "    dff = dff.groupby(hierarchy_levels)['trade_value_usd'].sum().reset_index()\n",
    "    \n",
    "    #Create treemap\n",
    "    fig = px.treemap(dff,\n",
    "                     path = hierarchy_levels,\n",
    "                     values = 'trade_value_usd',\n",
    "                     color = hierarchy_levels[0],\n",
    "                     title = '{}s'.format(flow),\n",
    "                     maxdepth = int(depth))\n",
    "    \n",
    "    fig.update_traces(textinfo = 'label+value',\n",
    "                      textfont = dict(family = 'Microsoft Yahei UI',\n",
    "                                      size = 20,\n",
    "                                      color = 'white'),\n",
    "                      marker = dict(depthfade = True),\n",
    "                     hovertemplate = '<b>%{label}</b><br><b>Share: </b> %{percentParent:.2f}')\n",
    "    \n",
    "    fig.update_layout(hoverlabel = dict(bgcolor = 'white', font_family = 'Microsoft Yahei UI'),\n",
    "                      margin = dict(l=20,r=20,b=20),\n",
    "                      title_font_size = 15,\n",
    "                      title_font_family = 'Microsoft Yahei UI',\n",
    "                      title_font_color = 'black')    \n",
    "    \n",
    "    return fig\n",
    "\n",
    "#Example (depth takes the following options: 1,2,3 and 4)\n",
    "#create_products_treemap('Export', 2019, 2)"
   ]
  },
  {
   "cell_type": "markdown",
   "metadata": {},
   "source": [
    "### Function 3: Create a treemap for countries"
   ]
  },
  {
   "cell_type": "code",
   "execution_count": 43,
   "metadata": {},
   "outputs": [],
   "source": [
    "def create_countries_treemap(flow, year, dff = df):\n",
    "    #Filter dataframe according to trade flow\n",
    "    dff = dff[dff['trade_flow'] == flow]\n",
    "    \n",
    "    #Filter by year\n",
    "    if year != 'All years': #A dropdown menu for years will have values 2011, 2012, ..., 2019, and 'All years'.\n",
    "        dff = dff[dff['year'] == int(year)]\n",
    "        \n",
    "    #Get title\n",
    "    title = {'export':'Destinations', 'import':'Origins'}\n",
    "        \n",
    "    #Prepare dataframe\n",
    "    hierarchy_levels = ['region','country']\n",
    "    dff = dff.groupby(hierarchy_levels)['trade_value_usd'].sum().reset_index()\n",
    "    \n",
    "    #Create treemap\n",
    "    fig = px.treemap(dff,\n",
    "                     path = hierarchy_levels,\n",
    "                     values = 'trade_value_usd',\n",
    "                     color = hierarchy_levels[0],\n",
    "                     title = title[flow])\n",
    "    \n",
    "    fig.update_traces(textinfo = 'label+value',\n",
    "                      textfont = dict(family = 'Microsoft Yahei UI',\n",
    "                                      size = 20,\n",
    "                                      color = 'white'),\n",
    "                      marker = dict(depthfade = True),\n",
    "                      hovertemplate = '<b>%{label}</b><br><b>Share: </b> %{percentRoot:.2f}')\n",
    "    \n",
    "    fig.update_layout(hoverlabel = dict(bgcolor = 'white', font_family = 'Microsoft Yahei UI'),\n",
    "                      margin = dict(l=20,r=20,b=20),\n",
    "                      title_font_size = 15,\n",
    "                      title_font_family = 'Microsoft Yahei UI',\n",
    "                      title_font_color = 'black')    \n",
    "    \n",
    "    return fig\n",
    "\n",
    "#Example\n",
    "#create_countries_treemap('Import',2019)"
   ]
  },
  {
   "cell_type": "markdown",
   "metadata": {},
   "source": [
    "### Function 4: Create a treemap for products: Growth Change"
   ]
  },
  {
   "cell_type": "code",
   "execution_count": 44,
   "metadata": {
    "scrolled": true
   },
   "outputs": [],
   "source": [
    "def build_diff_treemap_products(value, flow, dff = df):        \n",
    "    y1 = value[0]\n",
    "    y2 = value[1]\n",
    "    \n",
    "    dff = dff[dff['trade_flow'] == flow]\n",
    "    df1 = dff[dff['year'] == y1]\n",
    "    df2 = dff[dff['year'] == y2]\n",
    "    \n",
    "    hierarchy_levels = ['hs1_desc','hs2_desc','hs4_desc','hs6_desc']\n",
    "    \n",
    "    df1 = df1.groupby(hierarchy_levels)['trade_value_usd'].sum().reset_index(name = 'Value at {}'.format(y1))\n",
    "    df2 = df2.groupby(hierarchy_levels)['trade_value_usd'].sum().reset_index(name = 'Value at {}'.format(y2))\n",
    "    \n",
    "    diff = df1.merge(df2, how = 'outer', on = hierarchy_levels)\n",
    "    \n",
    "    diff = diff.fillna(0)\n",
    "    \n",
    "    diff['Difference'] = diff['Value at {}'.format(y2)] - diff['Value at {}'.format(y1)]\n",
    "    diff['Absolute'] = diff['Difference'].apply(lambda x: abs(x))\n",
    "    \n",
    "    diff = diff[diff['Absolute'] > 0]\n",
    "    \n",
    "    title = '{} Difference between {} and {} - Products'.format(flow, y1, y2)\n",
    "    \n",
    "    fig = px.treemap(diff,\n",
    "                     path = hierarchy_levels,\n",
    "                     values = 'Absolute',\n",
    "                     color = 'Difference',\n",
    "                     color_continuous_scale = 'RdBu',\n",
    "                     color_continuous_midpoint = 0,\n",
    "                     title = title,\n",
    "                     maxdepth = 2)\n",
    "    \n",
    "    fig.update_traces(textinfo = 'label+value',\n",
    "                      textfont = dict(family = 'Microsoft Yahei UI',\n",
    "                                      size = 20),\n",
    "                      marker = dict(depthfade = True),\n",
    "                      hovertemplate = '<b>%{label}</b><br><b>Difference: </b>$%{color:.2f}<br>')\n",
    "    \n",
    "    fig.update_layout(hoverlabel = dict(bgcolor = 'white', font_family = 'Microsoft Yahei UI'),\n",
    "                      margin = dict(l=20,r=20,b=20),\n",
    "                      transition_duration = 500,\n",
    "                      title_font_size = 15,\n",
    "                      title_font_family = 'Microsoft Yahei UI',\n",
    "                      title_font_color = 'black')  \n",
    "    return fig\n",
    "\n",
    "#Example\n",
    "#build_diff_treemap_products([2014,2019], 'Export')"
   ]
  },
  {
   "cell_type": "markdown",
   "metadata": {},
   "source": [
    "### Function 5: Create a treemap for countries: Growth Change"
   ]
  },
  {
   "cell_type": "code",
   "execution_count": 45,
   "metadata": {},
   "outputs": [],
   "source": [
    "def build_diff_treemap_countries(value, flow, dff = df):\n",
    "    y1 = value[0]\n",
    "    y2 = value[1]\n",
    "    \n",
    "    dff = dff[dff['trade_flow'] == flow]\n",
    "    df1 = dff[dff['year'] == y1]\n",
    "    df2 = dff[dff['year'] == y2]\n",
    "    \n",
    "    hierarchy_levels = ['region','country']\n",
    "    \n",
    "    df1 = df1.groupby(hierarchy_levels)['trade_value_usd'].sum().reset_index(name = 'Value at {}'.format(y1))\n",
    "    df2 = df2.groupby(hierarchy_levels)['trade_value_usd'].sum().reset_index(name = 'Value at {}'.format(y2))\n",
    "    \n",
    "    diff = df1.merge(df2, how = 'inner', on = hierarchy_levels)\n",
    "    \n",
    "    diff = diff.fillna(0)\n",
    "    \n",
    "    diff['Difference'] = diff['Value at {}'.format(y2)] - diff['Value at {}'.format(y1)]\n",
    "    diff['Absolute'] = abs(diff['Difference'])\n",
    "    \n",
    "    diff = diff[diff['Absolute'] > 0]\n",
    "    \n",
    "    title = '{} Difference between {} and {} - Countries'.format(flow, y1, y2)\n",
    "    \n",
    "    fig = px.treemap(diff,\n",
    "                     path = hierarchy_levels,\n",
    "                     values = 'Absolute',\n",
    "                     color = 'Difference',\n",
    "                     color_continuous_scale = 'RdBu',\n",
    "                     color_continuous_midpoint = 0,\n",
    "                     title = title)\n",
    "    fig.update_traces(textinfo = 'label+value',\n",
    "                      textfont = dict(family = 'Microsoft Yahei UI',\n",
    "                                      size = 20),\n",
    "                      marker = dict(depthfade = True),\n",
    "                      hovertemplate = '<b>%{label}</b><br><b>Difference: </b>$%{color:.2f}<br>')\n",
    "    \n",
    "    fig.update_layout(hoverlabel = dict(bgcolor = 'white', font_family = 'Microsoft Yahei UI'),\n",
    "                      margin = dict(l=20,r=20,b=20),\n",
    "                      transition_duration = 500,\n",
    "                      title_font_size = 15,\n",
    "                      title_font_family = 'Microsoft Yahei UI',\n",
    "                      title_font_color = 'black')  \n",
    "    return fig\n",
    "\n",
    "#Example\n",
    "#build_diff_treemap_countries([2014,2019],'Export')"
   ]
  },
  {
   "cell_type": "markdown",
   "metadata": {},
   "source": [
    "## Create Pages "
   ]
  },
  {
   "cell_type": "code",
   "execution_count": 46,
   "metadata": {},
   "outputs": [],
   "source": [
    "#CSS style for paragraphs\n",
    "PARAGRAPH_STYLE = {'fontSize':'15px',\n",
    "                   'text-align':'justify',\n",
    "                   'text-justify':'inter-word',\n",
    "                   'padding-right':'15rem'}"
   ]
  },
  {
   "cell_type": "markdown",
   "metadata": {},
   "source": [
    "### Page 1: Home"
   ]
  },
  {
   "cell_type": "code",
   "execution_count": 47,
   "metadata": {},
   "outputs": [],
   "source": [
    "### Page 1: Home\n",
    "home = html.Div([\n",
    "    dbc.Row(html.H1('Home', className = 'display-1', style = {'padding-left':'15px'})),\n",
    "    html.Hr(),\n",
    "    \n",
    "    dbc.Row(html.H4('Participants in this work', className = 'display-4', style = {'padding-left':'15px'})),\n",
    "    html.P([html.B('- Prepared by: '), 'Firas Alameddine'], \n",
    "           style = PARAGRAPH_STYLE),\n",
    "    html.P([html.B('- First Supervisor: '), 'Dr. Wissam Sammouri'], \n",
    "           style = PARAGRAPH_STYLE),\n",
    "    html.P([html.B('- Second Supervisor: '), 'Mr. Elias Boustani'], \n",
    "           style = PARAGRAPH_STYLE),\n",
    "    \n",
    "    html.Br(),\n",
    "    \n",
    "    dbc.Row(html.H4('Abstract', className = 'display-4', style = {'padding-left':'15px'})),\n",
    "    html.P(\"\"\"Despite the fact that the free fall of the Lebanese currency exchange rate, has had severe negative\n",
    "    impact on the economy, illustrated by the sharp increase in prices, this free fall could create an opportunity\n",
    "    for the Lebanese industry to evolve and gain new momentum. In fact, the sharp increase of prices of imported\n",
    "    products makes it almost impossible for ordinary consumers to buy as they used to do prior to the crisis, hence\n",
    "    the need for cheaper local alternative goods (many of which are virtually inexistent).\n",
    "    Also, the decrease of production costs (in US$) of Lebanese goods provides an opportunity for manufacturers\n",
    "    to increase their level of exports to foreign markets, an act which would help eliminate gradually trade deficit\n",
    "    as new markets start importing cheaper Lebanese goods compared to similar goods’ prices in these markets.\"\"\",\n",
    "          style = PARAGRAPH_STYLE),\n",
    "    \n",
    "    html.Br(),\n",
    "    \n",
    "    dbc.Row(html.H4('Project', className = 'display-4', style = {'padding-left':'15px'})),\n",
    "    html.P([\n",
    "        html.P(\"\"\"The goal of this capstone project is to support knowledge acquired throughout my MSBA by getting \n",
    "        hand-on work experience with public data. The choice of such a topic is intentional: For it helps me hone my \n",
    "        newly acquired skills in data analytics. Accordingly, the progression of my capstone will be divided into the\n",
    "        following milestones:\"\"\"),\n",
    "        dbc.Row(''),\n",
    "        html.B('Milestone 1: Use and analyze data in Lebanese Industry and Commerce'),\n",
    "        html.P(\"\"\"In the First part, the focus will be on the collection of Lebanese Customs data, as well as \n",
    "        international trade data available via official platforms, namely World Bank, WTO and WCO. The aim is to add\n",
    "        my contribution in terms of reporting methodology, metrics, evaluation, use of visualization, coding \n",
    "        automation and recommendations given.\"\"\"),\n",
    "        dbc.Row(''),\n",
    "        html.B('Milestone 2: Data Overview'),\n",
    "        html.P(\"\"\"The second part is more informative and will go through an overview of the data tools and sources,\n",
    "        highlighting both strong and weak points.\"\"\"),\n",
    "        html.P(html.I('Tools to be used: Python (main work), Tableau (investigative work).')),\n",
    "        dbc.Row(''),\n",
    "        html.B('Milestone 3: Data Driven Answers'),\n",
    "        html.P('Finally, the third part is meant to provide answers for the following questions:'),\n",
    "        html.P('''1- What are the main countries Lebanon is dealing with for each import/export category? How did it \n",
    "        evolve with time from 2011 to 2019?''', style = {'padding-left':'30px'}),\n",
    "        html.P(\"\"\"2- What are the export verticals that are growing in Lebanon and what are the ones shrinking?\"\"\",\n",
    "               style = {'padding-left':'30px'}),\n",
    "        html.P(\"\"\"3- How does our pricing per ton for exports compare with the one from other countries?\"\"\", \n",
    "               style = {'padding-left':'30px'}),\n",
    "        html.P(\"\"\"4- Is the pricing per ton for our imports competitive? Are neighboring countries (such as Jordan)\n",
    "        getting better deals?\"\"\", style = {'padding-left':'30px'}),\n",
    "        html.P(\"\"\"5- What are the export verticals that exist in Lebanon and that have a potential for growth as \n",
    "        other comparable countries were able to grow in the past three years?\"\"\", style = {'padding-left':'30px'})\n",
    "    ], style = PARAGRAPH_STYLE),\n",
    "    \n",
    "    html.Br(),\n",
    "    \n",
    "    dbc.Row(html.H4('Acknowledgment', className = 'display-4'), style = {'padding-left':'15px'}),\n",
    "    html.P('''To put everything in a few words, this project is the fruit of all my work for the summer term at AUB MSBA.\n",
    "    It would be impossible for me to finish it without the guidance and mentorship of Dr Wissam Sammouri and Mr Elias \n",
    "    Boustani, and the support of my family and friends.''', style = PARAGRAPH_STYLE)\n",
    "])"
   ]
  },
  {
   "cell_type": "markdown",
   "metadata": {},
   "source": [
    "### Page 2: Harmonized System"
   ]
  },
  {
   "cell_type": "code",
   "execution_count": 48,
   "metadata": {},
   "outputs": [],
   "source": [
    "### Page 2: Harmonized System\n",
    "\n",
    "harmonized_system = html.Div([\n",
    "    dbc.Row(html.H1('Harmonized System', className = 'display-1', style = {'padding-left':'15px'})),\n",
    "    html.Hr(),\n",
    "    \n",
    "    dbc.Row(html.H4('Introduction', className ='display-4', style = {'padding-left':'15px'})),\n",
    "    html.P(html.I(['\"With over US$ 15 trillion worth of goods moving around the world, ', \n",
    "           html.B('how do you know what is crossing your border? '),\n",
    "            \"\"\"This is the issue that the Harmonized Commodity description and Coding System (Commonly known as the\n",
    "            Harmonized System or the HS) is designed to adress. It is a nomenclature which enables all goods moving\n",
    "            across borders to be assigned to a class in a uniform manner all over the world. As of 2018. It is used as\n",
    "            the basis for Customs tariffs and for the compilation of international trade statistics.\" \"\"\"], \n",
    "          ),style = PARAGRAPH_STYLE),\n",
    "    \n",
    "    html.P([html.I('''\"The HS is one of the most successful instruments developed by the World Customs Organization (WCO) \n",
    "        it adresses a fundamental need of governments: the ability to categorize what is being traded. This enables \n",
    "        both decisions on immediate actions for specific goods (duty collections, restrictions or controls, international\n",
    "        trade regulations) and the use of the collated information to underpin economic and trade related policies\n",
    "        and planning.\"'''), \"\"\" - World Customs Organization. The Harmonized System: A Universal Language for \n",
    "        International Trade. \"\"\"], style = PARAGRAPH_STYLE),\n",
    "    \n",
    "    html.Br(),\n",
    "    \n",
    "    dbc.Row(html.H4('Definition',  className ='display-4', style = {'padding-left':'15px'})),\n",
    "    html.P([\"\"\"The Harmonized Commodity Description and Coding System (or simply the Harmonized System or the HS)\n",
    "    is - as the name implies - a system of codes and names used to categorize and label all sorts of products\n",
    "    traded around the globe.\"\"\"], style = PARAGRAPH_STYLE), \n",
    "    html.P([\"\"\"Since the 1900's, the world has been witnessing an enormous growth in the complexity and range of\n",
    "    traded products, and in the frequency of trade between parties. With this expansion, the demand of a highly\n",
    "    structured system aimed at providing accurate information on international trade and detailed descriptions of \n",
    "    goods has grown. After several attempts to regularize trade globally, the HS came to existence in 1983 and was put into\n",
    "    action in 1988. The WCO describes the HS as one of its most successful instruments, because it has been accurately \n",
    "    adressing a fundamental need of governments: the categorization of what is traded. As of 2018, the HS is used as \n",
    "    a basis for numerous government regulations such as customs tariffs, duty collection, freight taxes, monitoring \n",
    "    of controlled goods, and the compilation of international trade statistics, by more than 180 members of the WCO, \n",
    "    most of which are developing countries which depend on customs duties for national revenues.\"\"\"], \n",
    "           style = PARAGRAPH_STYLE),\n",
    "    \n",
    "    html.P([\"\"\"Since its inception, the HS has been revised frequently to overcome disputes rising between trade \n",
    "    parties over the right definitions of products, and to stay up to date with new products entering the market \n",
    "    and imposing new trade patterns over time. The latest version of the HS was established in 2017, and a newer\n",
    "    one will take its place in 2022.\"\"\"],style = PARAGRAPH_STYLE),\n",
    "    \n",
    "    html.Br(),\n",
    "    \n",
    "    dbc.Row(html.H4('Structure', className = 'display-4', style = {'padding-left':'15px'})),\n",
    "    html.P(['''The HS uses a hierarchy to categorize traded goods into certain groups. All goods are grouped into 21\n",
    "    ''', html.I(' Sections '), 'that are subdivided into 96', html.I(' Chapters .'),\n",
    "    '''Sections and chapters provide broad definitions of products for ease of access and understanding. Furthermore, \n",
    "    chapters are subdivided into more than 1200''', html.I(' Headings '), \"\"\"which are further subdivided into more \n",
    "    than 5200\"\"\", html.I(' Sub-Headings'), \"\"\", to provide a more detailed and accurate decriptions of products.\"\"\"],\n",
    "           style = PARAGRAPH_STYLE),\n",
    "    \n",
    "    html.P(['''Each product in the Harmonized System is given a 6-digits code. Every member of the WCO \n",
    "    (i.e. using the HS) is allowed to do further dissections of product categories, by adding as many digits as they\n",
    "    feel they need: products with more than 6 digits are said to be at the national tariff-level. To read a product’s\n",
    "    code, one must bare in mind that the code is actually an assembling of three 2-digits codes: the first couple of\n",
    "    digits corresponds to chapters (and they go from 1 to 97 with the exclusion of chapter 77), and the second and\n",
    "    third couples are assigned to headings and sub-headings respectively (coding of headings depends on how\n",
    "    many headings there is in each chapter. The same analogy is applied to sub-headings relative to headings).'''], \n",
    "           style = PARAGRAPH_STYLE),\n",
    "    \n",
    "    dbc.Row([\n",
    "        dbc.Col(\n",
    "            html.P(['''The photo on the left is an example of what is mentioned right above. Consider the case of\n",
    "            product 100630: the first couple of digits is 10, referring to chapter 10 in the HS. The second \n",
    "            couple is 06, which leads to heading 06 in chapter 10. The third couple is 30, which refers\n",
    "            to subheading 30 in heading 06. Again, ach section is a list of chapters containing products \n",
    "            that are of similar complexity to produce.'''], style = PARAGRAPH_STYLE), width = 8\n",
    "        ),\n",
    "        \n",
    "        dbc.Col(dbc.Card([\n",
    "            dbc.CardImg(src = '/assets/hs.png', style = {'height':'160px'}),\n",
    "            dbc.CardFooter('An example of how products are categorized in the HS')\n",
    "        ]), width = 4)\n",
    "    ], style = PARAGRAPH_STYLE),\n",
    "    \n",
    "    html.Br(),\n",
    "    \n",
    "])\n"
   ]
  },
  {
   "cell_type": "markdown",
   "metadata": {},
   "source": [
    "### Page 3: User Guide"
   ]
  },
  {
   "cell_type": "code",
   "execution_count": 49,
   "metadata": {},
   "outputs": [
    {
     "name": "stderr",
     "output_type": "stream",
     "text": [
      "C:\\Users\\user\\anaconda3\\lib\\site-packages\\plotly\\express\\_core.py:1637: FutureWarning: The frame.append method is deprecated and will be removed from pandas in a future version. Use pandas.concat instead.\n",
      "  df_all_trees = df_all_trees.append(df_tree, ignore_index=True)\n",
      "C:\\Users\\user\\anaconda3\\lib\\site-packages\\plotly\\express\\_core.py:1637: FutureWarning: The frame.append method is deprecated and will be removed from pandas in a future version. Use pandas.concat instead.\n",
      "  df_all_trees = df_all_trees.append(df_tree, ignore_index=True)\n",
      "C:\\Users\\user\\anaconda3\\lib\\site-packages\\plotly\\express\\_core.py:1637: FutureWarning: The frame.append method is deprecated and will be removed from pandas in a future version. Use pandas.concat instead.\n",
      "  df_all_trees = df_all_trees.append(df_tree, ignore_index=True)\n",
      "C:\\Users\\user\\anaconda3\\lib\\site-packages\\plotly\\express\\_core.py:1637: FutureWarning: The frame.append method is deprecated and will be removed from pandas in a future version. Use pandas.concat instead.\n",
      "  df_all_trees = df_all_trees.append(df_tree, ignore_index=True)\n",
      "C:\\Users\\user\\anaconda3\\lib\\site-packages\\plotly\\express\\_core.py:1637: FutureWarning:\n",
      "\n",
      "The frame.append method is deprecated and will be removed from pandas in a future version. Use pandas.concat instead.\n",
      "\n",
      "C:\\Users\\user\\anaconda3\\lib\\site-packages\\plotly\\express\\_core.py:1637: FutureWarning:\n",
      "\n",
      "The frame.append method is deprecated and will be removed from pandas in a future version. Use pandas.concat instead.\n",
      "\n"
     ]
    }
   ],
   "source": [
    "### Page 3: User Guide\n",
    "\n",
    "userguide = html.Div([\n",
    "    dbc.Row(html.H1('User Guide', className = 'display-1', style = {'padding-left':'15px'})),\n",
    "    html.Hr(),\n",
    "    \n",
    "    dbc.Row(html.H4('Introduction', className = 'display-4', style = {'padding-left':'15px'})),\n",
    "    html.P(\"\"\"Here, I briefly explain how the dash apps work, by showcasing one component at a time. There are four dash\n",
    "    apps, each of which has its own purpose, even though they look very similar. Dash App 1 illustrates two treemaps to \n",
    "    distribute trade values by products (Imports and Exports) and by countries (Origins and Destinations), and a line\n",
    "    chart to look at these trade values over time. Mainly, a user would interact with Dash App 1 to observe trade patterns\n",
    "    of each product between Lebanon and corresponding partners. Dash App 2 works similarly, but its purpose is to observe\n",
    "    a trade portfolio of products between Lebanon and a certain partner (the other way around, kind of). Dash Apps 3 and 4\n",
    "    are similar to Dash Apps 1 and 2 (respectively) but they show trade growth change instead of trade values.\n",
    "    \n",
    "    Firstly, I define the dropdown menus. Then I explain each figure: What it is, How it works, How to read it and infer\n",
    "    from it. Lastly, I describe the connection between the figures, by describing how interaction between figures \n",
    "    works.\"\"\", style = PARAGRAPH_STYLE),\n",
    "    \n",
    "    html.Br(),\n",
    "    \n",
    "    dbc.Row(html.H4('Dropdown Menus', className = 'display-4', style = {'padding-left':'15px'})),\n",
    "    dbc.Row([\n",
    "        dbc.Col(html.P(\n",
    "            [html.P([\"\"\"These dropdown menus are here to filter the database behind the dashoards. They represent the\n",
    "            categorical fields defining each trade value in the database: commodity description, year and trade flow. \n",
    "            The first dropdown menu \"\"\", html.B('Select Depth Level '), \"\"\"implies how deep the treemaps shall be.\n",
    "            Its first value 1 distributes trade values by sections (first level of granularity in the HS), \n",
    "            whereas its second value 2 distributes trade values by sections then chapters \n",
    "            (first two levels of granularity in the HS). \n",
    "\n",
    "            Toggling between these values change the \"\"\", html.Code('maxdepth = ', style = {'fontSize':'15px'}),\n",
    "            'property in the ' , html.Code('px.treemap() ', style = {'fontSize':'15px'}), \"\"\"functions. \n",
    "\n",
    "            By clicking on the treemap and setting the depth value to 2, the treemap automatically digs into\n",
    "            the next level. For example, when the user selects a chapter, the treemap immediately shows the headings\n",
    "            underneath that chapter.\"\"\"]),\n",
    "            \n",
    "            html.P(['The two other Dropdown Menus ', html.B('Select Trade Flow '), 'and ', html.B('Select Year '),\n",
    "            'filter the dataframe by trade flow and year. The value', html.I(' All years '),\n",
    "            \"\"\"in the third menu sums trade values for the whole period between 2011 and 2019.\n",
    "            The Menus typically activate callbacks each time a value is changed, which hinders time efficiency.\n",
    "            \n",
    "            \n",
    "            Therefore, a \"\"\", dbc.Button('Submit', color = 'success', style = {'height':'20px'},\n",
    "                                         size = 'sm'),\n",
    "            \"\"\" is added to hold these callbacks from firing every single time. A user would then select a filtering\n",
    "            combination and click on the button to find results he is looking for.\"\"\"]),\n",
    "             \n",
    "             html.P([\"\"\"The Range Slider for years is specifically added for Dash Apps 3 and 4, which illustrate the\n",
    "             growth change of trade values between two years, by products and by countries.\"\"\"])\n",
    "        \n",
    "        ]), width = 8),\n",
    "        \n",
    "        dbc.Col(dbc.Card([\n",
    "            dbc.Label('Select Depth Level'),\n",
    "            dbc.Select(options=[{'label': str(i), 'value': i} for i in [1, 2]],\n",
    "                       value=1, size='lg'),\n",
    "\n",
    "            dbc.Label('Select Trade Flow'),\n",
    "            dbc.Select(options=[{'label': flow, 'value': flow} for flow in ['export', 'import']],\n",
    "                       value='export', size='lg'),\n",
    "\n",
    "            dbc.Label('Select Year'),\n",
    "            dbc.Select(options=[{'label': 'All years', 'value': 'All years'}] +\n",
    "                       [{'label': str(year), 'value': year} for year in list(reversed(range(2011, 2020)))],\n",
    "                       value=1, size='lg'),\n",
    "\n",
    "            dbc.Label('Select Range of Years'),\n",
    "            dcc.RangeSlider(marks={year: {'label': str(year)} for year in range(2011, 2020)},\n",
    "                            value=[2014, 2019], min=2011, max=2019, pushable=True, step=1)\n",
    "        ], body=True), width=4)\n",
    "    ], style=PARAGRAPH_STYLE),\n",
    "    \n",
    "    html.Br(),\n",
    "    \n",
    "    dbc.Row(html.H4('Treemaps', className = 'display-4', style = {'padding-left':'15px'})),\n",
    "    dbc.Row([\n",
    "        dbc.Col(dbc.Card(\n",
    "        dbc.Row([\n",
    "            dbc.Col(dcc.Loading(dcc.Graph(figure = create_products_treemap('export','All years','2'))), width = 6),\n",
    "            dbc.Col(dcc.Loading(dcc.Graph(figure = create_countries_treemap('export','All years'))), width = 6)\n",
    "        ]), body = True\n",
    "        ), width = {'size':8, 'offset':2})\n",
    "    ], style = {'padding-bottom':'2rem'}),\n",
    "    \n",
    "    \n",
    "    html.P([\"\"\"A treemap is the ideal chart to display tree-structured data, which is the case of bilateral \n",
    "    trade data, since the Harmonized System is built around the idea of identifying and distributing products\n",
    "    into certain groups of different levels, and since countries are also grouped into continents.\"\"\",\n",
    "    \"\"\"A treemap is a collection of rectangles with different colors and sizes, that are usually ordered by size\n",
    "    from largest (top left) to smallest (bottom right). Hierarchy of categories in a treemap chart is represented as\n",
    "    triangles inside other triangles (as countries fall under continents, and chapters fall under sections, etc.).\n",
    "    The size and place of a rectangle defines how much money is traded between Lebanon and his partners for\n",
    "    certain product categories.\"\"\"],style = PARAGRAPH_STYLE),  \n",
    "    \n",
    "    html.Br(),\n",
    "    \n",
    "    dbc.Row(html.H4('Time Series', className = 'display-4', style = {'padding-left':'15px'})),\n",
    "    dbc.Row(\n",
    "        dbc.Col(\n",
    "            dbc.Card(\n",
    "                dcc.Graph(\n",
    "                    figure = create_time_series('import')\n",
    "                )\n",
    "                , body = True\n",
    "            ),width = {'size':8, 'offset':2}\n",
    "        ), style = {'padding-bottom':'2rem'}\n",
    "    ),\n",
    "    html.P([\"\"\"The chart above illustrates how Lebanon's total sum of trade value is moving over time. A user will play\n",
    "    with the dropdown menus to filter the dataframe rendering the line chart. As well, he may click on a treemap \n",
    "    and hover over the other one for more detailed filtering and a very narrow view of trade vs time. For example, \n",
    "    a user may observe how much worth of gold is exported from Lebanon to Switzerland between 2011 and 2019 using\n",
    "    Dash App 1, by first setting \"\"\", html.B('Select Depth Level'), ' and ', html.B('Select Trade Flow'), ' to ',\n",
    "    html.I('2'), ' and ', html.I('Export'), \"\"\" respectively, then by clicking on 'Gold' rectangle in the first treemap\n",
    "    and hovering over Switzerland's rectangle in the second treemap.\"\"\"], style = PARAGRAPH_STYLE)\n",
    "])"
   ]
  },
  {
   "cell_type": "markdown",
   "metadata": {},
   "source": [
    "### Page 4: Dashboards"
   ]
  },
  {
   "cell_type": "markdown",
   "metadata": {},
   "source": [
    "#### Page 4.1: Dashboard 1\n",
    "clickData from products treemap & hoverData from countries treemap"
   ]
  },
  {
   "cell_type": "code",
   "execution_count": 50,
   "metadata": {},
   "outputs": [],
   "source": [
    "dash1 = html.Div([\n",
    "    dbc.Row([\n",
    "        dbc.Col([\n",
    "            dbc.Label('Select HS Level', style = {'fontSize':'15px'}),\n",
    "            dbc.Select(id = 'hs 1',\n",
    "                       options = [{'label':'1','value':1},\n",
    "                                  {'label':'2','value':2}],\n",
    "                       value = 2,\n",
    "                       size = 'lg')\n",
    "        ],width = 2),\n",
    "        \n",
    "        dbc.Col([\n",
    "            dbc.Label('Select Trade Flow', style = {'fontSize':'15px'}),\n",
    "            dbc.Select(id = 'flow 1',\n",
    "                       options = [{'label':'export','value':'export'},\n",
    "                                  {'label':'import','value':'import'}],\n",
    "                       value = 'export',\n",
    "                       size = 'lg')\n",
    "        ], width = 2),\n",
    "        \n",
    "        dbc.Col([\n",
    "            dbc.Label('Select Year', style = {'fontSize':'15px'}),\n",
    "            dbc.Select(id = 'year 1',\n",
    "                       options = [{'label':'All years','value':'All years'},\n",
    "                                  {'label':'2019', 'value':2019},\n",
    "                                  {'label':'2018', 'value':2018},\n",
    "                                  {'label':'2017', 'value':2017},\n",
    "                                  {'label':'2016', 'value':2016},\n",
    "                                  {'label':'2015', 'value':2015},\n",
    "                                  {'label':'2014', 'value':2014},\n",
    "                                  {'label':'2013', 'value':2013},\n",
    "                                  {'label':'2012', 'value':2012},\n",
    "                                  {'label':'2011', 'value':2011}],\n",
    "                       value = 'All years',\n",
    "                       size = 'lg')\n",
    "        ], width = 2),\n",
    "        \n",
    "        dbc.Col([\n",
    "            dbc.Label('Select Range of Years', style = {'fontSize':'15px'}),\n",
    "            dcc.RangeSlider(id = 'slider 1', min = 2011, max = 2019, step = 1, value = [2014,2019], pushable = True,\n",
    "                            marks = {year:{'label':str(year)} for year in range(2011,2020)}, disabled = True)\n",
    "        ], width = 5),\n",
    "        \n",
    "        dbc.Col([\n",
    "            dbc.Row(dbc.Button('Submit', id = 'submit 1', color = 'success', n_clicks = 0))\n",
    "        ], width = 1, style = {'padding-right':'2rem'})\n",
    "    ], style = {'padding-bottom':'1rem', 'padding-top':'1rem'}),\n",
    "    \n",
    "    dbc.Row([\n",
    "        dbc.Col(dbc.Card(dcc.Loading(dcc.Graph(id = 'treemap 1_1'), type = 'circle'), body = True), width = 6),\n",
    "        dbc.Col(dbc.Card(dcc.Loading(dcc.Graph(id = 'treemap 1_2', clear_on_unhover = True), type = 'circle'),\n",
    "                         body = True), width = 6)\n",
    "    ], style = {'padding-bottom':'1rem'}),\n",
    "    \n",
    "    dbc.Row(dbc.Col(dbc.Card(dcc.Loading(dcc.Graph(id = 'time series 1'), type = 'circle'), body = True), width = 12))\n",
    "    \n",
    "])"
   ]
  },
  {
   "cell_type": "markdown",
   "metadata": {},
   "source": [
    "#### Page 4.2: Dashboard 2\n",
    "clickData from countries treemap & hoverData from products treemap"
   ]
  },
  {
   "cell_type": "code",
   "execution_count": 51,
   "metadata": {},
   "outputs": [],
   "source": [
    "dash2 = html.Div([\n",
    "    dbc.Row([\n",
    "        dbc.Col([\n",
    "            dbc.Label('Select HS Level', style = {'fontSize':'15px'}),\n",
    "            dbc.Select(id = 'hs 2',\n",
    "                       options = [{'label':'1','value':1},\n",
    "                                  {'label':'2','value':2}],\n",
    "                       value = 2,\n",
    "                       size = 'lg')\n",
    "        ],width = 2),\n",
    "        \n",
    "        dbc.Col([\n",
    "            dbc.Label('Select Trade Flow', style = {'fontSize':'15px'}),\n",
    "            dbc.Select(id = 'flow 2',\n",
    "                       options = [{'label':'export','value':'export'},\n",
    "                                  {'label':'import','value':'import'}],\n",
    "                       value = 'export',\n",
    "                       size = 'lg')\n",
    "        ], width = 2),\n",
    "        \n",
    "        dbc.Col([\n",
    "            dbc.Label('Select Year', style = {'fontSize':'15px'}),\n",
    "            dbc.Select(id = 'year 2',\n",
    "                       options = [{'label':'All years','value':'All years'},\n",
    "                                  {'label':'2019', 'value':2019},\n",
    "                                  {'label':'2018', 'value':2018},\n",
    "                                  {'label':'2017', 'value':2017},\n",
    "                                  {'label':'2016', 'value':2016},\n",
    "                                  {'label':'2015', 'value':2015},\n",
    "                                  {'label':'2014', 'value':2014},\n",
    "                                  {'label':'2013', 'value':2013},\n",
    "                                  {'label':'2012', 'value':2012},\n",
    "                                  {'label':'2011', 'value':2011}],\n",
    "                       value = 'All years',\n",
    "                       size = 'lg')\n",
    "        ], width = 2),\n",
    "        \n",
    "        dbc.Col([\n",
    "            dbc.Label('Select Range of Years', style = {'fontSize':'15px'}),\n",
    "            dcc.RangeSlider(id = 'slider 2', min = 2011, max = 2019, step = 1, value = [2014,2019], pushable = True,\n",
    "                            marks = {year:{'label':str(year)} for year in range(2011,2020)}, disabled = True)\n",
    "        ], width = 5),\n",
    "        \n",
    "        dbc.Col([\n",
    "            dbc.Row(dbc.Button('Submit', id = 'submit 2', color = 'success', n_clicks = 0))\n",
    "        ], width = 1, style = {'padding-right':'2rem'})\n",
    "    ], style = {'padding-bottom':'1rem', 'padding-top':'1rem'}),\n",
    "    \n",
    "    dbc.Row([\n",
    "        dbc.Col(dbc.Card(dcc.Loading(dcc.Graph(id = 'treemap 2_1'), type = 'circle'), body = True), width = 6),\n",
    "        dbc.Col(dbc.Card(dcc.Loading(dcc.Graph(id = 'treemap 2_2', clear_on_unhover = True), type = 'circle'),\n",
    "                         body = True), width = 6)\n",
    "    ], style = {'padding-bottom':'1rem'}),\n",
    "    \n",
    "    dbc.Row(dbc.Col(dbc.Card(dcc.Loading(dcc.Graph(id = 'time series 2'), type = 'circle'), body = True), width = 12))\n",
    "    \n",
    "])"
   ]
  },
  {
   "cell_type": "markdown",
   "metadata": {},
   "source": [
    "#### Page 4.3: Dashboard 3"
   ]
  },
  {
   "cell_type": "code",
   "execution_count": 52,
   "metadata": {},
   "outputs": [],
   "source": [
    "dash3 = html.Div([\n",
    "    dbc.Row([\n",
    "        dbc.Col([\n",
    "            dbc.Label('Select HS Level', style = {'fontSize':'15px'}),\n",
    "            dbc.Select(id = 'hs 3',\n",
    "                       options = [{'label':'1','value':1},\n",
    "                                  {'label':'2','value':2}],\n",
    "                       value = 2,\n",
    "                       size = 'lg')\n",
    "        ],width = 2),\n",
    "        \n",
    "        dbc.Col([\n",
    "            dbc.Label('Select Trade Flow', style = {'fontSize':'15px'}),\n",
    "            dbc.Select(id = 'flow 3',\n",
    "                       options = [{'label':'export','value':'export'},\n",
    "                                  {'label':'import','value':'import'}],\n",
    "                       value = 'export',\n",
    "                       size = 'lg')\n",
    "        ], width = 2),\n",
    "        \n",
    "        dbc.Col([\n",
    "            dbc.Label('Select Year', style = {'fontSize':'15px'}),\n",
    "            dbc.Select(id = 'year 3',\n",
    "                       options = [{'label':'All years','value':'All years'},\n",
    "                                  {'label':'2019', 'value':2019},\n",
    "                                  {'label':'2018', 'value':2018},\n",
    "                                  {'label':'2017', 'value':2017},\n",
    "                                  {'label':'2016', 'value':2016},\n",
    "                                  {'label':'2015', 'value':2015},\n",
    "                                  {'label':'2014', 'value':2014},\n",
    "                                  {'label':'2013', 'value':2013},\n",
    "                                  {'label':'2012', 'value':2012},\n",
    "                                  {'label':'2011', 'value':2011}],\n",
    "                       value = 'All years',\n",
    "                       size = 'lg', disabled = True)\n",
    "        ], width = 2),\n",
    "        \n",
    "        dbc.Col([\n",
    "            dbc.Label('Select Range of Years', style = {'fontSize':'15px'}),\n",
    "            dcc.RangeSlider(id = 'slider 3', min = 2011, max = 2019, step = 1, value = [2014,2019], pushable = True,\n",
    "                            marks = {year:{'label':str(year)} for year in range(2011,2020)})\n",
    "        ], width = 5),\n",
    "        \n",
    "        dbc.Col([\n",
    "            dbc.Row(dbc.Button('Submit', id = 'submit 3', color = 'success', n_clicks = 0))\n",
    "        ], width = 1, style = {'padding-right':'2rem'})\n",
    "    ], style = {'padding-bottom':'1rem', 'padding-top':'1rem'}),\n",
    "    \n",
    "    dbc.Row([\n",
    "        dbc.Col(dbc.Card(dcc.Loading(dcc.Graph(id = 'treemap 3_1'), type = 'circle'), body = True), width = 6),\n",
    "        dbc.Col(dbc.Card(dcc.Loading(dcc.Graph(id = 'treemap 3_2', clear_on_unhover = True), type = 'circle' ),\n",
    "                         body = True), width = 6)\n",
    "    ], style = {'padding-bottom':'1rem'}),\n",
    "    \n",
    "    dbc.Row(dbc.Col(dbc.Card(dcc.Loading(dcc.Graph(id = 'time series 3'), type = 'circle'), body = True), width = 12))\n",
    "    \n",
    "])"
   ]
  },
  {
   "cell_type": "markdown",
   "metadata": {},
   "source": [
    "#### Page 4.4: Dashboard 4"
   ]
  },
  {
   "cell_type": "code",
   "execution_count": 53,
   "metadata": {},
   "outputs": [],
   "source": [
    "dash4 = html.Div([\n",
    "    dbc.Row([\n",
    "        dbc.Col([\n",
    "            dbc.Label('Select HS Level', style = {'fontSize':'15px'}),\n",
    "            dbc.Select(id = 'hs 4',\n",
    "                       options = [{'label':'1','value':1},\n",
    "                                  {'label':'2','value':2}],\n",
    "                       value = 2,\n",
    "                       size = 'lg')\n",
    "        ],width = 2),\n",
    "        \n",
    "        dbc.Col([\n",
    "            dbc.Label('Select Trade Flow', style = {'fontSize':'15px'}),\n",
    "            dbc.Select(id = 'flow 4',\n",
    "                       options = [{'label':'export','value':'export'},\n",
    "                                  {'label':'import','value':'import'}],\n",
    "                       value = 'xport',\n",
    "                       size = 'lg')\n",
    "        ], width = 2),\n",
    "        \n",
    "        dbc.Col([\n",
    "            dbc.Label('Select Year', style = {'fontSize':'15px'}),\n",
    "            dbc.Select(id = 'year 4',\n",
    "                       options = [{'label':'All years','value':'All years'},\n",
    "                                  {'label':'2019', 'value':2019},\n",
    "                                  {'label':'2018', 'value':2018},\n",
    "                                  {'label':'2017', 'value':2017},\n",
    "                                  {'label':'2016', 'value':2016},\n",
    "                                  {'label':'2015', 'value':2015},\n",
    "                                  {'label':'2014', 'value':2014},\n",
    "                                  {'label':'2013', 'value':2013},\n",
    "                                  {'label':'2012', 'value':2012},\n",
    "                                  {'label':'2011', 'value':2011}],\n",
    "                       value = 'All years',\n",
    "                       size = 'lg', disabled = True)\n",
    "        ], width = 2),\n",
    "        \n",
    "        dbc.Col([\n",
    "            dbc.Label('Select Range of Years', style = {'fontSize':'15px'}),\n",
    "            dcc.RangeSlider(id = 'slider 4', min = 2011, max = 2019, step = 1, value = [2014,2019], pushable = True,\n",
    "                            marks = {year:{'label':str(year)} for year in range(2011,2020)})\n",
    "        ], width = 5),\n",
    "        \n",
    "        dbc.Col([\n",
    "            dbc.Row(dbc.Button('Submit', id = 'submit 4', color = 'success', n_clicks = 0))\n",
    "        ], width = 1, style = {'padding-right':'2rem'})\n",
    "    ], style = {'padding-bottom':'1rem', 'padding-top':'1rem'}),\n",
    "    \n",
    "    dbc.Row([\n",
    "        dbc.Col(dbc.Card(dcc.Loading(dcc.Graph(id = 'treemap 4_1'), type = 'circle'), body = True), width = 6),\n",
    "        dbc.Col(dbc.Card(dcc.Loading(dcc.Graph(id = 'treemap 4_2', clear_on_unhover = True), type = 'circle'),\n",
    "                         body = True), width = 6)\n",
    "    ], style = {'padding-bottom':'1rem'}),\n",
    "    \n",
    "    dbc.Row(dbc.Col(dbc.Card(dcc.Loading(dcc.Graph(id = 'time series 4'), type = 'circle'), body = True), width = 12))\n",
    "    \n",
    "])"
   ]
  },
  {
   "cell_type": "markdown",
   "metadata": {},
   "source": [
    "#### Tabs to render dashboards"
   ]
  },
  {
   "cell_type": "code",
   "execution_count": 54,
   "metadata": {},
   "outputs": [],
   "source": [
    "dash = html.Div([\n",
    "    dbc.Row(html.H1('Dash App', className = 'display-1', style = {'padding-left':'15px'})),\n",
    "    html.Hr(),\n",
    "    dbc.Tabs([\n",
    "        dbc.Tab(dash1, label = 'Dash App 1', label_style = {'fontSize':'15px'}),\n",
    "        dbc.Tab(dash2, label = 'Dash App 2', label_style = {'fontSize':'15px'}),\n",
    "        dbc.Tab(dash3, label = 'Dash App 3', label_style = {'fontSize':'15px'}),\n",
    "        dbc.Tab(dash4, label = 'Dash App 4', label_style = {'fontSize':'15px'}),\n",
    "    ])\n",
    "])"
   ]
  },
  {
   "cell_type": "markdown",
   "metadata": {},
   "source": [
    "## Assemble pages"
   ]
  },
  {
   "cell_type": "markdown",
   "metadata": {},
   "source": [
    "### Layout of the dashboards"
   ]
  },
  {
   "cell_type": "code",
   "execution_count": 55,
   "metadata": {},
   "outputs": [],
   "source": [
    "external_stylesheets = ['https://codepen.io/chriddyp/pen/bWLwgP.css', dbc.themes.BOOTSTRAP]\n",
    "\n",
    "app = JupyterDash(__name__, external_stylesheets = external_stylesheets)\n",
    "\n",
    "# the style arguments for the sidebar. We use position:fixed and a fixed width\n",
    "SIDEBAR_STYLE = {\n",
    "    \"position\": \"fixed\",\n",
    "    \"top\": 0,\n",
    "    \"left\": 0,\n",
    "    \"bottom\": 0,\n",
    "    \"width\": \"20rem\",\n",
    "    \"padding\": \"2rem 1rem\",\n",
    "    \"background-color\": \"#183340\"\n",
    "}\n",
    "\n",
    "# the styles for the main content position it to the right of the sidebar and add some padding.\n",
    "CONTENT_STYLE = {\n",
    "    \"margin-left\": \"20rem\",\n",
    "    \"padding\": \"2rem 1rem\",\n",
    "    \"background-color\":\"#fcfcfc\",\n",
    "    \"top\": 0,\n",
    "    \"left\": 0,\n",
    "    \"bottom\": 0,\n",
    "    \"right\": 0,\n",
    "#     \"position\": \"fixed\",\n",
    "}\n",
    "\n",
    "# the style for navigation links, to make it inline with the sidebar.\n",
    "LINK_STYLE = {\n",
    "    'border-radius':'5px',\n",
    "    'fontSize':'15px',\n",
    "    'color':'#3f5257',\n",
    "    'background-color':'#fcfcfc'\n",
    "}\n",
    "\n",
    "sidebar = html.Div(\n",
    "    [\n",
    "        html.H2(\"Lebanon's Trade Performance\", className=\"display-4\", style = {'color':'#fafafa'}),\n",
    "        html.Hr(style = {'border-top':'1px double #f7f7f7'}),\n",
    "        dbc.Nav(\n",
    "        [\n",
    "            dbc.NavItem(dbc.NavLink(\"Home\", href=\"/page-1\", id=\"page-1-link\",\n",
    "                                    active = True, style = LINK_STYLE)),\n",
    "            dbc.NavItem(dbc.NavLink(\"Harmonized System\", href=\"/page-2\", id=\"page-2-link\", \n",
    "                                    active = True, style = LINK_STYLE)),\n",
    "            dbc.NavItem(dbc.NavLink(\"User Guide\", href=\"/page-3\", id=\"page-3-link\",\n",
    "                                    active = True, style = LINK_STYLE)),\n",
    "            dbc.NavItem(dbc.NavLink(\"Dash App\", href=\"/page-4\", id=\"page-4-link\",\n",
    "                                    active = True, style = LINK_STYLE)),            \n",
    "        ],\n",
    "            vertical=True, pills = True, fill = True, style = {'padding-top':'2em'}\n",
    "                ),\n",
    "        \n",
    "        dbc.Card(dbc.CardImg(src = '/assets/aub-osb.png'),\n",
    "                 body = True, style = {'height':'95px', 'position':'absolute', 'bottom':15, 'right':5, 'left':5})\n",
    "    \n",
    "    ],\n",
    "    style=SIDEBAR_STYLE,\n",
    ")\n",
    "\n",
    "content = html.Div(id=\"page-content\", style=CONTENT_STYLE)\n",
    "\n",
    "app.layout = html.Div([dcc.Location(id=\"url\"), sidebar, content])\n",
    "\n",
    "#Callbacks to render content\n",
    "\n",
    "@app.callback(\n",
    "    [Output(f\"page-{i}-link\", \"active\") for i in range(1, 5)],\n",
    "    [Input(\"url\", \"pathname\")],\n",
    ")\n",
    "def toggle_active_links(pathname):\n",
    "    if pathname == \"/\":\n",
    "        # Treat page 1 as the homepage / index\n",
    "        return True, False, False, False\n",
    "    return [pathname == f\"/page-{i}\" for i in range(1, 5)]\n",
    "\n",
    "\n",
    "@app.callback(Output(\"page-content\", \"children\"), [Input(\"url\", \"pathname\")])\n",
    "def render_page_content(pathname):\n",
    "    if pathname in [\"/\", \"/page-1\"]:\n",
    "        return html.Div([home])\n",
    "    elif pathname == \"/page-2\":\n",
    "        return html.Div([harmonized_system])\n",
    "    elif pathname == \"/page-3\":\n",
    "        return html.Div([userguide])\n",
    "    elif pathname == \"/page-4\":\n",
    "        return html.Div([dash])"
   ]
  },
  {
   "cell_type": "markdown",
   "metadata": {},
   "source": [
    "### Dash Apps Callbacks"
   ]
  },
  {
   "cell_type": "markdown",
   "metadata": {},
   "source": [
    "#### Callbacks for Dash App 1"
   ]
  },
  {
   "cell_type": "code",
   "execution_count": 56,
   "metadata": {},
   "outputs": [],
   "source": [
    "#Callbacks to update figures\n",
    "@app.callback(Output('treemap 1_1','figure'),\n",
    "             [Input('submit 1','n_clicks')],\n",
    "             [State('flow 1','value'),\n",
    "              State('year 1','value'),\n",
    "              State('hs 1','value')])\n",
    "def update_countries_treemap(n_clicks, flow, year, depth):\n",
    "    fig1 = create_products_treemap(flow, year, depth)\n",
    "    return fig1\n",
    "\n",
    "@app.callback(Output('treemap 1_2','figure'),\n",
    "             [Input('treemap 1_1','clickData'),\n",
    "              Input('submit 1','n_clicks')],\n",
    "             [State('flow 1','value'),\n",
    "              State('year 1','value')])\n",
    "def update_countries_treemap(clickData, n_clicks, flow, year):\n",
    "    if clickData == None or clickData['points'][0]['percentRoot'] == 1:\n",
    "        fig2 = create_countries_treemap(flow, year)\n",
    "        return fig2\n",
    "    \n",
    "    product = clickData['points'][0]['label']\n",
    "    dfff = df[(df['hs1_desc'] == product) | (df['hs2_desc'] == product) | \n",
    "              (df['hs4_desc'] == product) | (df['hs6_desc'] == product)]\n",
    "    fig2 = create_countries_treemap(flow, year, dfff)\n",
    "    return fig2\n",
    "\n",
    "@app.callback(Output('time series 1','figure'),\n",
    "             [Input('treemap 1_1','clickData'),\n",
    "              Input('treemap 1_2','hoverData'),\n",
    "              Input('submit 1','n_clicks')],\n",
    "             [State('flow 1','value')])\n",
    "def update_time_series(clickData, hoverData, n_clicks, flow):\n",
    "    if (clickData == None or clickData['points'][0]['percentRoot'] == 1) and (hoverData == None or hoverData['points'][0]['percentRoot'] == 1):\n",
    "        fig3 = create_time_series(flow)\n",
    "        return fig3\n",
    "    elif clickData != None and (hoverData == None or hoverData['points'][0]['percentRoot'] == 1):\n",
    "        product = clickData['points'][0]['label']\n",
    "        dfff = df[(df['hs1_desc'] == product) | \n",
    "                  (df['hs2_desc'] == product) | \n",
    "                  (df['hs4_desc'] == product) | \n",
    "                  (df['hs6_desc'] == product)]\n",
    "        fig3 = create_time_series(flow, dfff)\n",
    "        return fig3\n",
    "    elif (clickData == None or clickData['points'][0]['percentRoot'] == 1) and hoverData != None:\n",
    "        place = hoverData['points'][0]['label']\n",
    "        dfff = df[(df['region'] == place) | \n",
    "                  (df['country'] == place)]\n",
    "        fig3 = create_time_series(flow, dfff)\n",
    "        return fig3\n",
    "    else:\n",
    "        product = clickData['points'][0]['label']\n",
    "        dfff = df[(df['hs1_desc'] == product) | \n",
    "                  (df['hs2_desc'] == product) | \n",
    "                  (df['hs4_desc'] == product) | \n",
    "                  (df['hs6_desc'] == product)]\n",
    "        \n",
    "        place = hoverData['points'][0]['label']\n",
    "        dfff = dfff[(dfff['region'] == place) | \n",
    "                    (dfff['country'] == place)]\n",
    "        fig3 = create_time_series(flow, dfff)\n",
    "        return fig3"
   ]
  },
  {
   "cell_type": "markdown",
   "metadata": {},
   "source": [
    "#### Callbacks for Dash App 2"
   ]
  },
  {
   "cell_type": "code",
   "execution_count": 57,
   "metadata": {},
   "outputs": [],
   "source": [
    "#Callbacks to update figures\n",
    "@app.callback(Output('treemap 2_1','figure'),\n",
    "             [Input('submit 2','n_clicks')],\n",
    "             [State('flow 2','value'),\n",
    "              State('year 2','value')])\n",
    "def update_countries_treemap_2(n_clicks, flow, year):\n",
    "    fig1 = create_countries_treemap(flow, year)\n",
    "    return fig1\n",
    "\n",
    "@app.callback(Output('treemap 2_2','figure'),\n",
    "             [Input('treemap 2_1','clickData'),\n",
    "              Input('submit 2','n_clicks')],\n",
    "             [State('flow 2','value'),\n",
    "              State('year 2','value'),\n",
    "              State('hs 2','value')])\n",
    "def update_countries_treemap(clickData, n_clicks, flow, year, depth):\n",
    "    if clickData == None or clickData['points'][0]['percentRoot'] == 1:\n",
    "        fig2 = create_products_treemap(flow, year, depth)\n",
    "        return fig2\n",
    "    place = clickData['points'][0]['label']\n",
    "    dfff = df[(df['region'] == place) | \n",
    "              (df['country'] == place)]\n",
    "    fig2 = create_products_treemap(flow, year, depth, dfff)\n",
    "    return fig2\n",
    "\n",
    "@app.callback(Output('time series 2','figure'),\n",
    "             [Input('treemap 2_1','clickData'),\n",
    "              Input('treemap 2_2','hoverData'),\n",
    "              Input('submit 2','n_clicks')],\n",
    "             [State('flow 2','value')])\n",
    "def update_time_series(clickData, hoverData, n_clicks, flow):\n",
    "    if (clickData == None or clickData['points'][0]['percentRoot'] == 1) and (hoverData == None or hoverData['points'][0]['percentRoot'] == 1):\n",
    "        fig3 = create_time_series(flow)\n",
    "        return fig3\n",
    "    elif clickData != None and (hoverData == None or hoverData['points'][0]['percentRoot'] == 1):\n",
    "        place = clickData['points'][0]['label']\n",
    "        dfff = df[(df['region'] == place) | \n",
    "                  (df['country'] == place)]\n",
    "        fig3 = create_time_series(flow, dfff)\n",
    "        return fig3\n",
    "    elif (clickData == None or clickData['points'][0]['percentRoot'] == 1) and hoverData != None:\n",
    "        product = hoverData['points'][0]['label']\n",
    "        dfff = df[(df['hs1_desc'] == product) | \n",
    "                  (df['hs2_desc'] == product) | \n",
    "                  (df['hs4_desc'] == product) | \n",
    "                  (df['hs6_desc'] == product)]\n",
    "        fig3 = create_time_series(flow, dfff)\n",
    "        return fig3\n",
    "    else:\n",
    "        place = clickData['points'][0]['label']\n",
    "        dfff = df[(df['region'] == place) | \n",
    "                  (df['country'] == place)]\n",
    "        \n",
    "        product = hoverData['points'][0]['label']\n",
    "        dfff = dfff[(dfff['hs1_desc'] == product) | \n",
    "                    (dfff['hs2_desc'] == product) | \n",
    "                    (dfff['hs4_desc'] == product) | \n",
    "                    (dfff['hs6_desc'] == product)]\n",
    "        fig3 = create_time_series(flow, dfff)\n",
    "        return fig3"
   ]
  },
  {
   "cell_type": "markdown",
   "metadata": {},
   "source": [
    "#### Callbacks for Dash App 3"
   ]
  },
  {
   "cell_type": "code",
   "execution_count": 58,
   "metadata": {},
   "outputs": [],
   "source": [
    "@app.callback(Output('treemap 3_1','figure'),\n",
    "             [Input('submit 3','n_clicks')],\n",
    "             [State('slider 3','value'),\n",
    "              State('flow 3','value')])\n",
    "def update_treemap_diff_products(n_clicks, value, flow):\n",
    "    return build_diff_treemap_products(value, flow)\n",
    "\n",
    "@app.callback(Output('treemap 3_2','figure'),\n",
    "             [Input('treemap 3_1','clickData'),\n",
    "              Input('submit 3','n_clicks')],\n",
    "             [State('slider 3','value'),\n",
    "              State('flow 3','value')])\n",
    "def update_treemap_diff_countries(clickData, n_clicks, value, flow):\n",
    "    while clickData == None or clickData['points'][0]['percentRoot'] == 1:\n",
    "        return build_diff_treemap_countries(value, flow)\n",
    "    product = clickData['points'][0]['label']\n",
    "    \n",
    "    dff = df[(df['hs1_desc']==product) |\n",
    "             (df['hs2_desc']==product) |\n",
    "             (df['hs4_desc']==product) |\n",
    "             (df['hs6_desc']==product)]\n",
    "    \n",
    "    return build_diff_treemap_countries(value, flow, dff)\n",
    "\n",
    "@app.callback(Output('time series 3','figure'),\n",
    "             [Input('treemap 3_1','clickData'),\n",
    "              Input('treemap 3_2','hoverData'),\n",
    "              Input('submit 3','n_clicks')],\n",
    "             [State('flow 3','value')])\n",
    "def update_time_series(clickData, hoverData, n_clicks, flow):\n",
    "    if (clickData == None or clickData['points'][0]['percentRoot'] == 1) and (hoverData == None or hoverData['points'][0]['percentRoot'] == 1):\n",
    "        fig3 = create_time_series(flow)\n",
    "        return fig3\n",
    "    elif clickData != None and (hoverData == None or hoverData['points'][0]['percentRoot'] == 1):\n",
    "        place = clickData['points'][0]['label']\n",
    "        dfff = df[(df['region'] == place) | \n",
    "                  (df['country'] == place)]\n",
    "        fig3 = create_time_series(flow, dfff)\n",
    "        return fig3\n",
    "    elif (clickData == None or clickData['points'][0]['percentRoot'] == 1) and hoverData != None:\n",
    "        product = hoverData['points'][0]['label']\n",
    "        dfff = df[(df['hs1_desc'] == product) | \n",
    "                  (df['hs2_desc'] == product) | \n",
    "                  (df['hs4_desc'] == product) | \n",
    "                  (df['hs1_desc'] == product)]\n",
    "        fig3 = create_time_series(flow, dfff)\n",
    "        return fig3\n",
    "    else:\n",
    "        place = clickData['points'][0]['label']\n",
    "        dfff = df[(df['Region'] == place) | \n",
    "                  (df['Country'] == place)]\n",
    "        \n",
    "        product = hoverData['points'][0]['label']\n",
    "        dfff = dfff[(dfff['hs1_desc'] == product) | \n",
    "                    (dfff['hs2_desc'] == product) | \n",
    "                    (dfff['hs4_desc'] == product) | \n",
    "                    (dfff['hs6_desc'] == product)]\n",
    "        fig3 = create_time_series(flow, dfff)\n",
    "        return fig3"
   ]
  },
  {
   "cell_type": "markdown",
   "metadata": {},
   "source": [
    "#### Callbacks for Dash App 4"
   ]
  },
  {
   "cell_type": "code",
   "execution_count": 59,
   "metadata": {},
   "outputs": [],
   "source": [
    "@app.callback(Output('treemap 4_1','figure'),\n",
    "             [Input('submit 4','n_clicks')],\n",
    "             [State('slider 4','value'),\n",
    "              State('flow 4','value')])\n",
    "def update_treemap_diff_countries_(n_clicks, value, flow):\n",
    "    return build_diff_treemap_countries(value, flow)\n",
    "\n",
    "@app.callback(Output('treemap 4_2','figure'),\n",
    "             [Input('treemap 4_1','clickData'),\n",
    "              Input('submit 4','n_clicks')],\n",
    "             [State('slider 4','value'),\n",
    "              State('flow 4','value')])\n",
    "def update_treemap_diff_products_(clickData, n_clicks, value, flow):\n",
    "    while clickData == None or clickData['points'][0]['percentRoot'] == 1:\n",
    "        return build_diff_treemap_products(value, flow)\n",
    "    place = clickData['points'][0]['label']\n",
    "    \n",
    "    dff = df[(df['region']==place) | \n",
    "             (df['country']==place)]\n",
    "    \n",
    "    return build_diff_treemap_products(value, flow, dff)\n",
    "@app.callback(Output('time series 4','figure'),\n",
    "             [Input('treemap 4_1','clickData'),\n",
    "              Input('treemap 4_2','hoverData'),\n",
    "              Input('submit 4','n_clicks')],\n",
    "             [State('flow 4','value')])\n",
    "def update_time_series(clickData, hoverData, n_clicks, flow):\n",
    "    if (clickData == None or clickData['points'][0]['percentRoot'] == 1) and (hoverData == None or hoverData['points'][0]['percentRoot'] == 1):\n",
    "        fig3 = create_time_series(flow)\n",
    "        return fig3\n",
    "    elif clickData != None and (hoverData == None or hoverData['points'][0]['percentRoot'] == 1):\n",
    "        place = clickData['points'][0]['label']\n",
    "        dfff = df[(df['region'] == place) | \n",
    "                  (df['country'] == place)]\n",
    "        fig3 = create_time_series(flow, dfff)\n",
    "        return fig3\n",
    "    elif (clickData == None or clickData['points'][0]['percentRoot'] == 1) and hoverData != None:\n",
    "        product = hoverData['points'][0]['label']\n",
    "        dfff = df[(df['hs1_desc'] == product) | \n",
    "                  (df['hs2_desc'] == product) | \n",
    "                  (df['hs4_desc'] == product) | \n",
    "                  (df['hs6_desc'] == product)]\n",
    "        fig3 = create_time_series(flow, dfff)\n",
    "        return fig3\n",
    "    else:\n",
    "        place = clickData['points'][0]['label']\n",
    "        dfff = df[(df['region'] == place) | \n",
    "                  (df['country'] == place)]\n",
    "        \n",
    "        product = hoverData['points'][0]['label']\n",
    "        dfff = dfff[(dfff['hs1_desc'] == product) | \n",
    "                    (dfff['hs2_desc'] == product) | \n",
    "                    (dfff['hs4_desc'] == product) | \n",
    "                    (dfff['hs6_desc'] == product)]\n",
    "        fig3 = create_time_series(flow, dfff)\n",
    "        return fig3"
   ]
  },
  {
   "cell_type": "markdown",
   "metadata": {},
   "source": [
    "## Run App"
   ]
  },
  {
   "cell_type": "code",
   "execution_count": 60,
   "metadata": {
    "scrolled": true
   },
   "outputs": [
    {
     "name": "stdout",
     "output_type": "stream",
     "text": [
      "Dash app running on http://127.0.0.1:4400/\n"
     ]
    }
   ],
   "source": [
    "app.run_server(port = 4400)"
   ]
  }
 ],
 "metadata": {
  "kernelspec": {
   "display_name": "Python 3 (ipykernel)",
   "language": "python",
   "name": "python3"
  },
  "language_info": {
   "codemirror_mode": {
    "name": "ipython",
    "version": 3
   },
   "file_extension": ".py",
   "mimetype": "text/x-python",
   "name": "python",
   "nbconvert_exporter": "python",
   "pygments_lexer": "ipython3",
   "version": "3.9.12"
  }
 },
 "nbformat": 4,
 "nbformat_minor": 2
}
